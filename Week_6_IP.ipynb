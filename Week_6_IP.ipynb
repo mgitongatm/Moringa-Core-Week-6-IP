{
  "nbformat": 4,
  "nbformat_minor": 0,
  "metadata": {
    "colab": {
      "name": "Week 6 IP.ipynb",
      "provenance": []
    },
    "kernelspec": {
      "name": "python3",
      "display_name": "Python 3"
    }
  },
  "cells": [
    {
      "cell_type": "markdown",
      "metadata": {
        "id": "L4POwLDvQtkf"
      },
      "source": [
        "# 1. Importing and Cleaning the Datasets"
      ]
    },
    {
      "cell_type": "code",
      "metadata": {
        "id": "2mESPoU2Q13I"
      },
      "source": [
        "# Import the libraries\r\n",
        "\r\n",
        "import numpy as np\r\n",
        "import pandas as pd"
      ],
      "execution_count": 1,
      "outputs": []
    },
    {
      "cell_type": "markdown",
      "metadata": {
        "id": "rkuotqFlZN6U"
      },
      "source": [
        "## a) FIFA Ranking Dataset"
      ]
    },
    {
      "cell_type": "code",
      "metadata": {
        "id": "PNECRYwzQOSW",
        "colab": {
          "base_uri": "https://localhost:8080/",
          "height": 0
        },
        "outputId": "53c975aa-f8a1-46a1-c5a4-82d49b8e8954"
      },
      "source": [
        "# Import the fifa_ranking dataset\r\n",
        "\r\n",
        "fifa_ranking = pd.read_csv('/content/fifa_ranking.csv')\r\n",
        "\r\n",
        "# preview the dataset\r\n",
        "\r\n",
        "fifa_ranking.head(3)"
      ],
      "execution_count": 2,
      "outputs": [
        {
          "output_type": "execute_result",
          "data": {
            "text/html": [
              "<div>\n",
              "<style scoped>\n",
              "    .dataframe tbody tr th:only-of-type {\n",
              "        vertical-align: middle;\n",
              "    }\n",
              "\n",
              "    .dataframe tbody tr th {\n",
              "        vertical-align: top;\n",
              "    }\n",
              "\n",
              "    .dataframe thead th {\n",
              "        text-align: right;\n",
              "    }\n",
              "</style>\n",
              "<table border=\"1\" class=\"dataframe\">\n",
              "  <thead>\n",
              "    <tr style=\"text-align: right;\">\n",
              "      <th></th>\n",
              "      <th>rank</th>\n",
              "      <th>country_full</th>\n",
              "      <th>country_abrv</th>\n",
              "      <th>total_points</th>\n",
              "      <th>previous_points</th>\n",
              "      <th>rank_change</th>\n",
              "      <th>cur_year_avg</th>\n",
              "      <th>cur_year_avg_weighted</th>\n",
              "      <th>last_year_avg</th>\n",
              "      <th>last_year_avg_weighted</th>\n",
              "      <th>two_year_ago_avg</th>\n",
              "      <th>two_year_ago_weighted</th>\n",
              "      <th>three_year_ago_avg</th>\n",
              "      <th>three_year_ago_weighted</th>\n",
              "      <th>confederation</th>\n",
              "      <th>rank_date</th>\n",
              "    </tr>\n",
              "  </thead>\n",
              "  <tbody>\n",
              "    <tr>\n",
              "      <th>0</th>\n",
              "      <td>1</td>\n",
              "      <td>Germany</td>\n",
              "      <td>GER</td>\n",
              "      <td>0.0</td>\n",
              "      <td>57</td>\n",
              "      <td>0</td>\n",
              "      <td>0.0</td>\n",
              "      <td>0.0</td>\n",
              "      <td>0.0</td>\n",
              "      <td>0.0</td>\n",
              "      <td>0.0</td>\n",
              "      <td>0.0</td>\n",
              "      <td>0.0</td>\n",
              "      <td>0.0</td>\n",
              "      <td>UEFA</td>\n",
              "      <td>1993-08-08</td>\n",
              "    </tr>\n",
              "    <tr>\n",
              "      <th>1</th>\n",
              "      <td>2</td>\n",
              "      <td>Italy</td>\n",
              "      <td>ITA</td>\n",
              "      <td>0.0</td>\n",
              "      <td>57</td>\n",
              "      <td>0</td>\n",
              "      <td>0.0</td>\n",
              "      <td>0.0</td>\n",
              "      <td>0.0</td>\n",
              "      <td>0.0</td>\n",
              "      <td>0.0</td>\n",
              "      <td>0.0</td>\n",
              "      <td>0.0</td>\n",
              "      <td>0.0</td>\n",
              "      <td>UEFA</td>\n",
              "      <td>1993-08-08</td>\n",
              "    </tr>\n",
              "    <tr>\n",
              "      <th>2</th>\n",
              "      <td>3</td>\n",
              "      <td>Switzerland</td>\n",
              "      <td>SUI</td>\n",
              "      <td>0.0</td>\n",
              "      <td>50</td>\n",
              "      <td>9</td>\n",
              "      <td>0.0</td>\n",
              "      <td>0.0</td>\n",
              "      <td>0.0</td>\n",
              "      <td>0.0</td>\n",
              "      <td>0.0</td>\n",
              "      <td>0.0</td>\n",
              "      <td>0.0</td>\n",
              "      <td>0.0</td>\n",
              "      <td>UEFA</td>\n",
              "      <td>1993-08-08</td>\n",
              "    </tr>\n",
              "  </tbody>\n",
              "</table>\n",
              "</div>"
            ],
            "text/plain": [
              "   rank country_full  ... confederation   rank_date\n",
              "0     1      Germany  ...          UEFA  1993-08-08\n",
              "1     2        Italy  ...          UEFA  1993-08-08\n",
              "2     3  Switzerland  ...          UEFA  1993-08-08\n",
              "\n",
              "[3 rows x 16 columns]"
            ]
          },
          "metadata": {
            "tags": []
          },
          "execution_count": 2
        }
      ]
    },
    {
      "cell_type": "code",
      "metadata": {
        "id": "ASyzJW5kZVKZ",
        "colab": {
          "base_uri": "https://localhost:8080/"
        },
        "outputId": "784b4609-993a-4cb9-ec5f-6102a12ff698"
      },
      "source": [
        "# Check the shape of the dataset\r\n",
        "\r\n",
        "fifa_ranking.shape\r\n",
        "\r\n",
        "# There are too many countries (57,793)"
      ],
      "execution_count": 3,
      "outputs": [
        {
          "output_type": "execute_result",
          "data": {
            "text/plain": [
              "(57793, 16)"
            ]
          },
          "metadata": {
            "tags": []
          },
          "execution_count": 3
        }
      ]
    },
    {
      "cell_type": "code",
      "metadata": {
        "id": "7-ZPwPN6ko_3",
        "colab": {
          "base_uri": "https://localhost:8080/"
        },
        "outputId": "24eb3f0d-a472-46be-80a5-f4b3968b7b67"
      },
      "source": [
        "# Check the unique entries in the country_full column\r\n",
        "\r\n",
        "(print('There are ' + str(fifa_ranking['country_full']. nunique()) + ' unique countries in our dataframe'))\r\n",
        "\r\n",
        "# The unique countries don't tally with the 57,756 rows in our dataframe. Therefore, check the unique dates\r\n",
        "# in our rank date column in our dataframe.\r\n",
        "\r\n",
        "(print('There are ' + str(fifa_ranking['rank_date']. nunique()) + ' unique dates in our dataframe'))\r\n",
        "\r\n",
        "print('*'*70) #print a separator\r\n",
        "\r\n",
        "print('Earliest Ranking Date: ' + fifa_ranking['rank_date'].min()) \r\n",
        "\r\n",
        "print('Latest Ranking Date: ' + fifa_ranking['rank_date'].max()) # Check the latest date we have in re;ation to the rankings\r\n",
        "\r\n",
        "# With 286 different rank dates, it makes sense why we have so many rows. If each of the 216 countries was to have been ranked\r\n",
        "# 286 times, we would have had 61,176 rows. With 57,756 rows, it seems that there was some attrition during these two dates\r\n",
        "# (As of January 2021, there were 195 countries recognized by the UN).\r\n"
      ],
      "execution_count": 4,
      "outputs": [
        {
          "output_type": "stream",
          "text": [
            "There are 216 unique countries in our dataframe\n",
            "There are 286 unique dates in our dataframe\n",
            "**********************************************************************\n",
            "Earliest Ranking Date: 1993-08-08\n",
            "Latest Ranking Date: 2018-06-07\n"
          ],
          "name": "stdout"
        }
      ]
    },
    {
      "cell_type": "code",
      "metadata": {
        "id": "zDM5mesgZlOG",
        "colab": {
          "base_uri": "https://localhost:8080/"
        },
        "outputId": "f08008ee-a6a1-47b6-dd6c-995bbaa177b4"
      },
      "source": [
        "# Check for null values\r\n",
        "\r\n",
        "fifa_ranking.isnull().sum()\r\n",
        "\r\n",
        "# No null values"
      ],
      "execution_count": 5,
      "outputs": [
        {
          "output_type": "execute_result",
          "data": {
            "text/plain": [
              "rank                       0\n",
              "country_full               0\n",
              "country_abrv               0\n",
              "total_points               0\n",
              "previous_points            0\n",
              "rank_change                0\n",
              "cur_year_avg               0\n",
              "cur_year_avg_weighted      0\n",
              "last_year_avg              0\n",
              "last_year_avg_weighted     0\n",
              "two_year_ago_avg           0\n",
              "two_year_ago_weighted      0\n",
              "three_year_ago_avg         0\n",
              "three_year_ago_weighted    0\n",
              "confederation              0\n",
              "rank_date                  0\n",
              "dtype: int64"
            ]
          },
          "metadata": {
            "tags": []
          },
          "execution_count": 5
        }
      ]
    },
    {
      "cell_type": "code",
      "metadata": {
        "id": "PSgpYSCGbgyf",
        "colab": {
          "base_uri": "https://localhost:8080/"
        },
        "outputId": "376bbadd-d6ff-4e48-f279-5604c2e94ae0"
      },
      "source": [
        "# check for duplicates and drop them. These need to be dropped before we drop the \"rank_date\" column so as to avoid sitiations \r\n",
        "# where we incorrectly drop columns as duplicates when they are not really duplicates.\r\n",
        "\r\n",
        "fifa_ranking = fifa_ranking.drop_duplicates()\r\n",
        "\r\n",
        "# print the shape of the new dataset\r\n",
        "\r\n",
        "fifa_ranking.shape # dropped 37 duplicate rows"
      ],
      "execution_count": 6,
      "outputs": [
        {
          "output_type": "execute_result",
          "data": {
            "text/plain": [
              "(57756, 16)"
            ]
          },
          "metadata": {
            "tags": []
          },
          "execution_count": 6
        }
      ]
    },
    {
      "cell_type": "code",
      "metadata": {
        "id": "gy-jwkHWjcF6"
      },
      "source": [
        "# Drop unnecessary columns\r\n",
        "\r\n",
        "fifa_ranking = fifa_ranking.drop(['total_points', 'previous_points', 'rank_change', 'cur_year_avg', 'cur_year_avg_weighted', 'last_year_avg', 'last_year_avg_weighted', 'two_year_ago_avg', 'two_year_ago_weighted', 'three_year_ago_avg', 'three_year_ago_weighted'], axis = 1)"
      ],
      "execution_count": 7,
      "outputs": []
    },
    {
      "cell_type": "code",
      "metadata": {
        "id": "xX0kynIPpeng",
        "colab": {
          "base_uri": "https://localhost:8080/",
          "height": 0
        },
        "outputId": "56a5fc36-807a-4a06-fbcd-34dad4420684"
      },
      "source": [
        "fifa_ranking.head(2)"
      ],
      "execution_count": 8,
      "outputs": [
        {
          "output_type": "execute_result",
          "data": {
            "text/html": [
              "<div>\n",
              "<style scoped>\n",
              "    .dataframe tbody tr th:only-of-type {\n",
              "        vertical-align: middle;\n",
              "    }\n",
              "\n",
              "    .dataframe tbody tr th {\n",
              "        vertical-align: top;\n",
              "    }\n",
              "\n",
              "    .dataframe thead th {\n",
              "        text-align: right;\n",
              "    }\n",
              "</style>\n",
              "<table border=\"1\" class=\"dataframe\">\n",
              "  <thead>\n",
              "    <tr style=\"text-align: right;\">\n",
              "      <th></th>\n",
              "      <th>rank</th>\n",
              "      <th>country_full</th>\n",
              "      <th>country_abrv</th>\n",
              "      <th>confederation</th>\n",
              "      <th>rank_date</th>\n",
              "    </tr>\n",
              "  </thead>\n",
              "  <tbody>\n",
              "    <tr>\n",
              "      <th>0</th>\n",
              "      <td>1</td>\n",
              "      <td>Germany</td>\n",
              "      <td>GER</td>\n",
              "      <td>UEFA</td>\n",
              "      <td>1993-08-08</td>\n",
              "    </tr>\n",
              "    <tr>\n",
              "      <th>1</th>\n",
              "      <td>2</td>\n",
              "      <td>Italy</td>\n",
              "      <td>ITA</td>\n",
              "      <td>UEFA</td>\n",
              "      <td>1993-08-08</td>\n",
              "    </tr>\n",
              "  </tbody>\n",
              "</table>\n",
              "</div>"
            ],
            "text/plain": [
              "   rank country_full country_abrv confederation   rank_date\n",
              "0     1      Germany          GER          UEFA  1993-08-08\n",
              "1     2        Italy          ITA          UEFA  1993-08-08"
            ]
          },
          "metadata": {
            "tags": []
          },
          "execution_count": 8
        }
      ]
    },
    {
      "cell_type": "code",
      "metadata": {
        "id": "VBBNSarYZyK8",
        "colab": {
          "base_uri": "https://localhost:8080/"
        },
        "outputId": "d931de0c-3f5e-4c23-9e37-8115e2c315bb"
      },
      "source": [
        "# Describe the data\r\n",
        "\r\n",
        "print(fifa_ranking.describe())\r\n",
        "\r\n",
        "print('*'*70)\r\n",
        "\r\n",
        "print(fifa_ranking.dtypes)\r\n",
        "\r\n",
        "print('*'*70)\r\n",
        "\r\n",
        "print(fifa_ranking.shape)"
      ],
      "execution_count": 9,
      "outputs": [
        {
          "output_type": "stream",
          "text": [
            "               rank\n",
            "count  57756.000000\n",
            "mean     101.618118\n",
            "std       58.635096\n",
            "min        1.000000\n",
            "25%       51.000000\n",
            "50%      101.000000\n",
            "75%      152.000000\n",
            "max      209.000000\n",
            "**********************************************************************\n",
            "rank              int64\n",
            "country_full     object\n",
            "country_abrv     object\n",
            "confederation    object\n",
            "rank_date        object\n",
            "dtype: object\n",
            "**********************************************************************\n",
            "(57756, 5)\n"
          ],
          "name": "stdout"
        }
      ]
    },
    {
      "cell_type": "code",
      "metadata": {
        "colab": {
          "base_uri": "https://localhost:8080/"
        },
        "id": "Zkr9C6o8aqFW",
        "outputId": "065883e6-6ad2-4d20-f66a-917615f9f950"
      },
      "source": [
        "# change the rank_date column from object to date_time data type\r\n",
        "\r\n",
        "import datetime # import the library\r\n",
        "\r\n",
        "fifa_ranking[\"rank_date\"] = fifa_ranking[\"rank_date\"].apply(pd.to_datetime) # change the column datatype\r\n",
        "\r\n",
        "print(fifa_ranking.dtypes) # check that the dataype conversion has been done correctly"
      ],
      "execution_count": 10,
      "outputs": [
        {
          "output_type": "stream",
          "text": [
            "rank                      int64\n",
            "country_full             object\n",
            "country_abrv             object\n",
            "confederation            object\n",
            "rank_date        datetime64[ns]\n",
            "dtype: object\n"
          ],
          "name": "stdout"
        }
      ]
    },
    {
      "cell_type": "code",
      "metadata": {
        "colab": {
          "base_uri": "https://localhost:8080/",
          "height": 0
        },
        "id": "4zqgA0swbevs",
        "outputId": "a288a7d0-3116-40f4-8cec-38b419b9c1cf"
      },
      "source": [
        "# preview the data\r\n",
        "\r\n",
        "fifa_ranking.head(3)"
      ],
      "execution_count": 11,
      "outputs": [
        {
          "output_type": "execute_result",
          "data": {
            "text/html": [
              "<div>\n",
              "<style scoped>\n",
              "    .dataframe tbody tr th:only-of-type {\n",
              "        vertical-align: middle;\n",
              "    }\n",
              "\n",
              "    .dataframe tbody tr th {\n",
              "        vertical-align: top;\n",
              "    }\n",
              "\n",
              "    .dataframe thead th {\n",
              "        text-align: right;\n",
              "    }\n",
              "</style>\n",
              "<table border=\"1\" class=\"dataframe\">\n",
              "  <thead>\n",
              "    <tr style=\"text-align: right;\">\n",
              "      <th></th>\n",
              "      <th>rank</th>\n",
              "      <th>country_full</th>\n",
              "      <th>country_abrv</th>\n",
              "      <th>confederation</th>\n",
              "      <th>rank_date</th>\n",
              "    </tr>\n",
              "  </thead>\n",
              "  <tbody>\n",
              "    <tr>\n",
              "      <th>0</th>\n",
              "      <td>1</td>\n",
              "      <td>Germany</td>\n",
              "      <td>GER</td>\n",
              "      <td>UEFA</td>\n",
              "      <td>1993-08-08</td>\n",
              "    </tr>\n",
              "    <tr>\n",
              "      <th>1</th>\n",
              "      <td>2</td>\n",
              "      <td>Italy</td>\n",
              "      <td>ITA</td>\n",
              "      <td>UEFA</td>\n",
              "      <td>1993-08-08</td>\n",
              "    </tr>\n",
              "    <tr>\n",
              "      <th>2</th>\n",
              "      <td>3</td>\n",
              "      <td>Switzerland</td>\n",
              "      <td>SUI</td>\n",
              "      <td>UEFA</td>\n",
              "      <td>1993-08-08</td>\n",
              "    </tr>\n",
              "  </tbody>\n",
              "</table>\n",
              "</div>"
            ],
            "text/plain": [
              "   rank country_full country_abrv confederation  rank_date\n",
              "0     1      Germany          GER          UEFA 1993-08-08\n",
              "1     2        Italy          ITA          UEFA 1993-08-08\n",
              "2     3  Switzerland          SUI          UEFA 1993-08-08"
            ]
          },
          "metadata": {
            "tags": []
          },
          "execution_count": 11
        }
      ]
    },
    {
      "cell_type": "markdown",
      "metadata": {
        "id": "k9bq-ZMOcGQR"
      },
      "source": [
        "## b) Results Dataset"
      ]
    },
    {
      "cell_type": "code",
      "metadata": {
        "id": "tgJPCEQUS2t_",
        "colab": {
          "base_uri": "https://localhost:8080/",
          "height": 0
        },
        "outputId": "bd20ad2c-dda0-4cac-d2d8-070c3fc3682b"
      },
      "source": [
        "# Import the results dataset\r\n",
        "\r\n",
        "results = pd.read_csv('/content/results.csv')\r\n",
        "\r\n",
        "# preview the dataset\r\n",
        "\r\n",
        "results.head(3)"
      ],
      "execution_count": 12,
      "outputs": [
        {
          "output_type": "execute_result",
          "data": {
            "text/html": [
              "<div>\n",
              "<style scoped>\n",
              "    .dataframe tbody tr th:only-of-type {\n",
              "        vertical-align: middle;\n",
              "    }\n",
              "\n",
              "    .dataframe tbody tr th {\n",
              "        vertical-align: top;\n",
              "    }\n",
              "\n",
              "    .dataframe thead th {\n",
              "        text-align: right;\n",
              "    }\n",
              "</style>\n",
              "<table border=\"1\" class=\"dataframe\">\n",
              "  <thead>\n",
              "    <tr style=\"text-align: right;\">\n",
              "      <th></th>\n",
              "      <th>date</th>\n",
              "      <th>home_team</th>\n",
              "      <th>away_team</th>\n",
              "      <th>home_score</th>\n",
              "      <th>away_score</th>\n",
              "      <th>tournament</th>\n",
              "      <th>city</th>\n",
              "      <th>country</th>\n",
              "      <th>neutral</th>\n",
              "    </tr>\n",
              "  </thead>\n",
              "  <tbody>\n",
              "    <tr>\n",
              "      <th>0</th>\n",
              "      <td>1872-11-30</td>\n",
              "      <td>Scotland</td>\n",
              "      <td>England</td>\n",
              "      <td>0</td>\n",
              "      <td>0</td>\n",
              "      <td>Friendly</td>\n",
              "      <td>Glasgow</td>\n",
              "      <td>Scotland</td>\n",
              "      <td>False</td>\n",
              "    </tr>\n",
              "    <tr>\n",
              "      <th>1</th>\n",
              "      <td>1873-03-08</td>\n",
              "      <td>England</td>\n",
              "      <td>Scotland</td>\n",
              "      <td>4</td>\n",
              "      <td>2</td>\n",
              "      <td>Friendly</td>\n",
              "      <td>London</td>\n",
              "      <td>England</td>\n",
              "      <td>False</td>\n",
              "    </tr>\n",
              "    <tr>\n",
              "      <th>2</th>\n",
              "      <td>1874-03-07</td>\n",
              "      <td>Scotland</td>\n",
              "      <td>England</td>\n",
              "      <td>2</td>\n",
              "      <td>1</td>\n",
              "      <td>Friendly</td>\n",
              "      <td>Glasgow</td>\n",
              "      <td>Scotland</td>\n",
              "      <td>False</td>\n",
              "    </tr>\n",
              "  </tbody>\n",
              "</table>\n",
              "</div>"
            ],
            "text/plain": [
              "         date home_team away_team  ...     city   country neutral\n",
              "0  1872-11-30  Scotland   England  ...  Glasgow  Scotland   False\n",
              "1  1873-03-08   England  Scotland  ...   London   England   False\n",
              "2  1874-03-07  Scotland   England  ...  Glasgow  Scotland   False\n",
              "\n",
              "[3 rows x 9 columns]"
            ]
          },
          "metadata": {
            "tags": []
          },
          "execution_count": 12
        }
      ]
    },
    {
      "cell_type": "code",
      "metadata": {
        "id": "om5TWr6Od6V9",
        "colab": {
          "base_uri": "https://localhost:8080/"
        },
        "outputId": "279525ab-4063-4a73-f5b5-398dc8162a9d"
      },
      "source": [
        "# Check the shape of the dataset\r\n",
        "\r\n",
        "results.shape"
      ],
      "execution_count": 13,
      "outputs": [
        {
          "output_type": "execute_result",
          "data": {
            "text/plain": [
              "(40839, 9)"
            ]
          },
          "metadata": {
            "tags": []
          },
          "execution_count": 13
        }
      ]
    },
    {
      "cell_type": "code",
      "metadata": {
        "colab": {
          "base_uri": "https://localhost:8080/"
        },
        "id": "OpMev7N3cU8r",
        "outputId": "71023a69-1289-409a-c20d-192c0162fcc6"
      },
      "source": [
        "# check whether there are any null values\r\n",
        "\r\n",
        "results.isnull().sum()\r\n",
        "\r\n",
        "# there are no null values"
      ],
      "execution_count": 14,
      "outputs": [
        {
          "output_type": "execute_result",
          "data": {
            "text/plain": [
              "date          0\n",
              "home_team     0\n",
              "away_team     0\n",
              "home_score    0\n",
              "away_score    0\n",
              "tournament    0\n",
              "city          0\n",
              "country       0\n",
              "neutral       0\n",
              "dtype: int64"
            ]
          },
          "metadata": {
            "tags": []
          },
          "execution_count": 14
        }
      ]
    },
    {
      "cell_type": "code",
      "metadata": {
        "colab": {
          "base_uri": "https://localhost:8080/"
        },
        "id": "NHBxTsucdOkt",
        "outputId": "2c2e0334-75ac-44e2-be08-091c7db57731"
      },
      "source": [
        "# drop duplicates\r\n",
        "\r\n",
        "results = results.drop_duplicates()\r\n",
        "\r\n",
        "# check the new shape\r\n",
        "\r\n",
        "results.shape\r\n",
        "\r\n",
        "# there are no duplicates in our data"
      ],
      "execution_count": 15,
      "outputs": [
        {
          "output_type": "execute_result",
          "data": {
            "text/plain": [
              "(40839, 9)"
            ]
          },
          "metadata": {
            "tags": []
          },
          "execution_count": 15
        }
      ]
    },
    {
      "cell_type": "code",
      "metadata": {
        "id": "eD7hP3uIehLV",
        "colab": {
          "base_uri": "https://localhost:8080/"
        },
        "outputId": "0efd3f84-5096-4d15-c274-752f96f58efd"
      },
      "source": [
        "# check the unique values under the column tournament\r\n",
        "print(results['tournament'].nunique())\r\n",
        "\r\n",
        "print('*'*70)\r\n",
        "\r\n",
        "print(results['tournament'].unique())\r\n",
        "\r\n",
        "# there are 109 unique values as shown. this is important because our learning model will train using 3 tournament types,\r\n",
        "# world cup, friendly and other"
      ],
      "execution_count": 16,
      "outputs": [
        {
          "output_type": "stream",
          "text": [
            "109\n",
            "**********************************************************************\n",
            "['Friendly' 'British Championship' 'Copa Lipton' 'Copa Newton'\n",
            " 'Copa Premio Honor Argentino' 'Copa Premio Honor Uruguayo' 'Copa Roca'\n",
            " 'Copa América' 'Copa Chevallier Boutell' 'Nordic Championship'\n",
            " 'International Cup' 'Baltic Cup' 'Balkan Cup' 'FIFA World Cup'\n",
            " 'Copa Rio Branco' 'FIFA World Cup qualification' 'CCCF Championship'\n",
            " 'NAFU Championship' 'Copa Oswaldo Cruz' 'Pan American Championship'\n",
            " 'Copa del Pacífico' \"Copa Bernardo O'Higgins\"\n",
            " 'AFC Asian Cup qualification' 'Atlantic Cup' 'AFC Asian Cup'\n",
            " 'African Cup of Nations' 'Copa Paz del Chaco' 'Merdeka Tournament'\n",
            " 'UEFA Euro qualification' 'UEFA Euro' 'Windward Islands Tournament'\n",
            " 'African Cup of Nations qualification' 'Vietnam Independence Cup'\n",
            " 'Copa Carlos Dittborn' 'CONCACAF Championship' 'Copa Juan Pinto Durán'\n",
            " 'UAFA Cup' 'South Pacific Games' 'CONCACAF Championship qualification'\n",
            " 'Copa Artigas' 'GaNEFo' \"King's Cup\" 'Gulf Cup' 'Indonesia Tournament'\n",
            " 'Korea Cup' 'Brazil Independence Cup' 'Copa Ramón Castilla'\n",
            " 'Oceania Nations Cup' 'CECAFA Cup' 'Copa Félix Bogado' 'Kirin Cup'\n",
            " 'CFU Caribbean Cup qualification' 'CFU Caribbean Cup'\n",
            " 'Amílcar Cabral Cup' 'Mundialito' 'West African Cup' 'Nehru Cup'\n",
            " 'Merlion Cup' 'UDEAC Cup' 'Rous Cup' 'Lunar New Year Cup'\n",
            " 'Tournoi de France' 'Malta International Tournament' 'Island Games'\n",
            " 'Dynasty Cup' 'UNCAF Cup' 'Gold Cup' 'USA Cup'\n",
            " 'Jordan International Tournament' 'Confederations Cup'\n",
            " 'United Arab Emirates Friendship Tournament'\n",
            " 'Oceania Nations Cup qualification' 'Simba Tournament' 'SAFF Cup'\n",
            " 'AFF Championship' 'King Hassan II Tournament'\n",
            " 'Cyprus International Tournament' 'Dunhill Cup' 'COSAFA Cup'\n",
            " 'Gold Cup qualification' 'SKN Football Festival' 'UNIFFAC Cup'\n",
            " 'WAFF Championship' 'Millennium Cup' \"Prime Minister's Cup\"\n",
            " 'EAFF Championship' 'AFC Challenge Cup' 'FIFI Wild Cup' 'ELF Cup'\n",
            " 'Viva World Cup' 'UAFA Cup qualification'\n",
            " 'AFC Challenge Cup qualification' 'African Nations Championship'\n",
            " 'VFF Cup' 'Dragon Cup' 'ABCS Tournament' 'Nile Basin Tournament'\n",
            " 'Nations Cup' 'Pacific Games' 'OSN Cup' 'CONIFA World Football Cup'\n",
            " 'CONIFA European Football Cup' 'Copa América qualification'\n",
            " 'World Unity Cup' 'Intercontinental Cup' 'AFF Championship qualification'\n",
            " 'UEFA Nations League' 'Atlantic Heritage Cup'\n",
            " 'Inter Games Football Tournament']\n"
          ],
          "name": "stdout"
        }
      ]
    },
    {
      "cell_type": "code",
      "metadata": {
        "colab": {
          "base_uri": "https://localhost:8080/"
        },
        "id": "QJbLSSa7cG9u",
        "outputId": "278eeb8b-b304-4b95-bffb-3faa3154ac35"
      },
      "source": [
        "# check the column data types\r\n",
        "\r\n",
        "results.dtypes"
      ],
      "execution_count": 17,
      "outputs": [
        {
          "output_type": "execute_result",
          "data": {
            "text/plain": [
              "date          object\n",
              "home_team     object\n",
              "away_team     object\n",
              "home_score     int64\n",
              "away_score     int64\n",
              "tournament    object\n",
              "city          object\n",
              "country       object\n",
              "neutral         bool\n",
              "dtype: object"
            ]
          },
          "metadata": {
            "tags": []
          },
          "execution_count": 17
        }
      ]
    },
    {
      "cell_type": "code",
      "metadata": {
        "colab": {
          "base_uri": "https://localhost:8080/"
        },
        "id": "Oo_SoMeUsMX3",
        "outputId": "6a4368b3-3e52-4af6-bbf3-6a5a3aaeb052"
      },
      "source": [
        "print('Earliest Playing Date: ' + str(results['date'].min()))\r\n",
        "\r\n",
        "print('Latest Ranking Date: ' + str(results['date'].max()))"
      ],
      "execution_count": 18,
      "outputs": [
        {
          "output_type": "stream",
          "text": [
            "Earliest Playing Date: 1872-11-30\n",
            "Latest Ranking Date: 2019-07-20\n"
          ],
          "name": "stdout"
        }
      ]
    },
    {
      "cell_type": "code",
      "metadata": {
        "id": "IS-Ci4r9eVaI"
      },
      "source": [
        "# drop unnecessary columns\r\n",
        "\r\n",
        "results = results.drop(['city', 'country', 'neutral'], 1)"
      ],
      "execution_count": 19,
      "outputs": []
    },
    {
      "cell_type": "code",
      "metadata": {
        "colab": {
          "base_uri": "https://localhost:8080/"
        },
        "id": "ArWVeaCCdqyV",
        "outputId": "f07070ec-8102-4aa5-99b9-1a9f3feea138"
      },
      "source": [
        "# change the rank_date column from object to date_time data type\r\n",
        "\r\n",
        "import datetime # import the library\r\n",
        "\r\n",
        "results[\"date\"] = results[\"date\"].apply(pd.to_datetime) # change the column datatype\r\n",
        "\r\n",
        "print(results.dtypes) # check that the dataype conversion has been done correctly"
      ],
      "execution_count": 20,
      "outputs": [
        {
          "output_type": "stream",
          "text": [
            "date          datetime64[ns]\n",
            "home_team             object\n",
            "away_team             object\n",
            "home_score             int64\n",
            "away_score             int64\n",
            "tournament            object\n",
            "dtype: object\n"
          ],
          "name": "stdout"
        }
      ]
    },
    {
      "cell_type": "code",
      "metadata": {
        "colab": {
          "base_uri": "https://localhost:8080/",
          "height": 0
        },
        "id": "WMjLvPRqd-YX",
        "outputId": "793c47eb-ffac-473d-9e8d-761959ded1ee"
      },
      "source": [
        "# preview the data\r\n",
        "\r\n",
        "results.head(3)"
      ],
      "execution_count": 21,
      "outputs": [
        {
          "output_type": "execute_result",
          "data": {
            "text/html": [
              "<div>\n",
              "<style scoped>\n",
              "    .dataframe tbody tr th:only-of-type {\n",
              "        vertical-align: middle;\n",
              "    }\n",
              "\n",
              "    .dataframe tbody tr th {\n",
              "        vertical-align: top;\n",
              "    }\n",
              "\n",
              "    .dataframe thead th {\n",
              "        text-align: right;\n",
              "    }\n",
              "</style>\n",
              "<table border=\"1\" class=\"dataframe\">\n",
              "  <thead>\n",
              "    <tr style=\"text-align: right;\">\n",
              "      <th></th>\n",
              "      <th>date</th>\n",
              "      <th>home_team</th>\n",
              "      <th>away_team</th>\n",
              "      <th>home_score</th>\n",
              "      <th>away_score</th>\n",
              "      <th>tournament</th>\n",
              "    </tr>\n",
              "  </thead>\n",
              "  <tbody>\n",
              "    <tr>\n",
              "      <th>0</th>\n",
              "      <td>1872-11-30</td>\n",
              "      <td>Scotland</td>\n",
              "      <td>England</td>\n",
              "      <td>0</td>\n",
              "      <td>0</td>\n",
              "      <td>Friendly</td>\n",
              "    </tr>\n",
              "    <tr>\n",
              "      <th>1</th>\n",
              "      <td>1873-03-08</td>\n",
              "      <td>England</td>\n",
              "      <td>Scotland</td>\n",
              "      <td>4</td>\n",
              "      <td>2</td>\n",
              "      <td>Friendly</td>\n",
              "    </tr>\n",
              "    <tr>\n",
              "      <th>2</th>\n",
              "      <td>1874-03-07</td>\n",
              "      <td>Scotland</td>\n",
              "      <td>England</td>\n",
              "      <td>2</td>\n",
              "      <td>1</td>\n",
              "      <td>Friendly</td>\n",
              "    </tr>\n",
              "  </tbody>\n",
              "</table>\n",
              "</div>"
            ],
            "text/plain": [
              "        date home_team away_team  home_score  away_score tournament\n",
              "0 1872-11-30  Scotland   England           0           0   Friendly\n",
              "1 1873-03-08   England  Scotland           4           2   Friendly\n",
              "2 1874-03-07  Scotland   England           2           1   Friendly"
            ]
          },
          "metadata": {
            "tags": []
          },
          "execution_count": 21
        }
      ]
    },
    {
      "cell_type": "markdown",
      "metadata": {
        "id": "O25uiFlxeHJJ"
      },
      "source": [
        "# 2. Merging the two datasets"
      ]
    },
    {
      "cell_type": "markdown",
      "metadata": {
        "id": "6FSUOJRzigyT"
      },
      "source": [
        "## a) Merge based on the home_team"
      ]
    },
    {
      "cell_type": "code",
      "metadata": {
        "colab": {
          "base_uri": "https://localhost:8080/"
        },
        "id": "TqLCUPMhnt8K",
        "outputId": "cb30c9e6-2e2f-462c-a284-92ef702a4e29"
      },
      "source": [
        "# check the first two rows and the shape of the results dataset\r\n",
        "\r\n",
        "print(results.head(2))\r\n",
        "print('*'*70)\r\n",
        "print(results.shape)"
      ],
      "execution_count": 22,
      "outputs": [
        {
          "output_type": "stream",
          "text": [
            "        date home_team away_team  home_score  away_score tournament\n",
            "0 1872-11-30  Scotland   England           0           0   Friendly\n",
            "1 1873-03-08   England  Scotland           4           2   Friendly\n",
            "**********************************************************************\n",
            "(40839, 6)\n"
          ],
          "name": "stdout"
        }
      ]
    },
    {
      "cell_type": "code",
      "metadata": {
        "colab": {
          "base_uri": "https://localhost:8080/"
        },
        "id": "vWZjeFzFnw54",
        "outputId": "56b80ac2-c001-4ed7-af8d-cd78ea90663c"
      },
      "source": [
        "# check the first two rows and the shape of the fifa_ranking dataset\r\n",
        "\r\n",
        "print(fifa_ranking.head(2))\r\n",
        "print(\"*\"*70)\r\n",
        "print(fifa_ranking.shape)"
      ],
      "execution_count": 23,
      "outputs": [
        {
          "output_type": "stream",
          "text": [
            "   rank country_full country_abrv confederation  rank_date\n",
            "0     1      Germany          GER          UEFA 1993-08-08\n",
            "1     2        Italy          ITA          UEFA 1993-08-08\n",
            "**********************************************************************\n",
            "(57756, 5)\n"
          ],
          "name": "stdout"
        }
      ]
    },
    {
      "cell_type": "code",
      "metadata": {
        "colab": {
          "base_uri": "https://localhost:8080/",
          "height": 0
        },
        "id": "ab938CtG_a0D",
        "outputId": "b9a67170-4da5-4e4a-a895-48ccc71154b3"
      },
      "source": [
        "# merge the results dataset and the fifa_rankings dataset based on the results home_team column. This will help to populate the\r\n",
        "# home teams rank in the combined dataset (home_team) as shown below\r\n",
        "\r\n",
        "home_team = pd.merge(results, fifa_ranking,left_on=['home_team'],right_on=['country_full'], how='left')\r\n",
        "home_team.head(3)\r\n",
        "\r\n",
        "# The rank of the home team has been apportioned based on the home teams rank on the rank_date column of the fifa_ranking dataset"
      ],
      "execution_count": 24,
      "outputs": [
        {
          "output_type": "execute_result",
          "data": {
            "text/html": [
              "<div>\n",
              "<style scoped>\n",
              "    .dataframe tbody tr th:only-of-type {\n",
              "        vertical-align: middle;\n",
              "    }\n",
              "\n",
              "    .dataframe tbody tr th {\n",
              "        vertical-align: top;\n",
              "    }\n",
              "\n",
              "    .dataframe thead th {\n",
              "        text-align: right;\n",
              "    }\n",
              "</style>\n",
              "<table border=\"1\" class=\"dataframe\">\n",
              "  <thead>\n",
              "    <tr style=\"text-align: right;\">\n",
              "      <th></th>\n",
              "      <th>date</th>\n",
              "      <th>home_team</th>\n",
              "      <th>away_team</th>\n",
              "      <th>home_score</th>\n",
              "      <th>away_score</th>\n",
              "      <th>tournament</th>\n",
              "      <th>rank</th>\n",
              "      <th>country_full</th>\n",
              "      <th>country_abrv</th>\n",
              "      <th>confederation</th>\n",
              "      <th>rank_date</th>\n",
              "    </tr>\n",
              "  </thead>\n",
              "  <tbody>\n",
              "    <tr>\n",
              "      <th>0</th>\n",
              "      <td>1872-11-30</td>\n",
              "      <td>Scotland</td>\n",
              "      <td>England</td>\n",
              "      <td>0</td>\n",
              "      <td>0</td>\n",
              "      <td>Friendly</td>\n",
              "      <td>30.0</td>\n",
              "      <td>Scotland</td>\n",
              "      <td>SCO</td>\n",
              "      <td>UEFA</td>\n",
              "      <td>1993-08-08</td>\n",
              "    </tr>\n",
              "    <tr>\n",
              "      <th>1</th>\n",
              "      <td>1872-11-30</td>\n",
              "      <td>Scotland</td>\n",
              "      <td>England</td>\n",
              "      <td>0</td>\n",
              "      <td>0</td>\n",
              "      <td>Friendly</td>\n",
              "      <td>28.0</td>\n",
              "      <td>Scotland</td>\n",
              "      <td>SCO</td>\n",
              "      <td>UEFA</td>\n",
              "      <td>1993-09-23</td>\n",
              "    </tr>\n",
              "    <tr>\n",
              "      <th>2</th>\n",
              "      <td>1872-11-30</td>\n",
              "      <td>Scotland</td>\n",
              "      <td>England</td>\n",
              "      <td>0</td>\n",
              "      <td>0</td>\n",
              "      <td>Friendly</td>\n",
              "      <td>29.0</td>\n",
              "      <td>Scotland</td>\n",
              "      <td>SCO</td>\n",
              "      <td>UEFA</td>\n",
              "      <td>1993-10-22</td>\n",
              "    </tr>\n",
              "  </tbody>\n",
              "</table>\n",
              "</div>"
            ],
            "text/plain": [
              "        date home_team away_team  ...  country_abrv  confederation  rank_date\n",
              "0 1872-11-30  Scotland   England  ...           SCO           UEFA 1993-08-08\n",
              "1 1872-11-30  Scotland   England  ...           SCO           UEFA 1993-09-23\n",
              "2 1872-11-30  Scotland   England  ...           SCO           UEFA 1993-10-22\n",
              "\n",
              "[3 rows x 11 columns]"
            ]
          },
          "metadata": {
            "tags": []
          },
          "execution_count": 24
        }
      ]
    },
    {
      "cell_type": "code",
      "metadata": {
        "colab": {
          "base_uri": "https://localhost:8080/"
        },
        "id": "wlWoXJnUNpT6",
        "outputId": "eda06c9f-fe3d-40e5-d16f-5198460c6e9f"
      },
      "source": [
        "# check on the shape of our new home_team dataset. It shows that we have 10,273,115 rows. This is due to thye duplication that \r\n",
        "# occured during the merging process.\r\n",
        "\r\n",
        "home_team.shape"
      ],
      "execution_count": 25,
      "outputs": [
        {
          "output_type": "execute_result",
          "data": {
            "text/plain": [
              "(10273115, 11)"
            ]
          },
          "metadata": {
            "tags": []
          },
          "execution_count": 25
        }
      ]
    },
    {
      "cell_type": "code",
      "metadata": {
        "id": "IjoF-iMNJJOz"
      },
      "source": [
        "# dstart cleaning to remove duplicates. We can remove some duplicates by specifying that the date that the game was played should\r\n",
        "# be less than the rank date. This ensures that the home team is assigned it's proper rank based on when the ranking was carried out\r\n",
        " \r\n",
        "home_team = home_team[home_team.date <= home_team.rank_date]"
      ],
      "execution_count": 26,
      "outputs": []
    },
    {
      "cell_type": "code",
      "metadata": {
        "colab": {
          "base_uri": "https://localhost:8080/"
        },
        "id": "LQKyM2aEOsFW",
        "outputId": "4216d3c9-755b-431b-aab0-6671b6e327f2"
      },
      "source": [
        "# Check how many rows have been dropped\r\n",
        "\r\n",
        "home_team.shape"
      ],
      "execution_count": 27,
      "outputs": [
        {
          "output_type": "execute_result",
          "data": {
            "text/plain": [
              "(7276872, 11)"
            ]
          },
          "metadata": {
            "tags": []
          },
          "execution_count": 27
        }
      ]
    },
    {
      "cell_type": "code",
      "metadata": {
        "id": "6JoCegGFOvzA"
      },
      "source": [
        "# drop further duplicates by specifying the subsets of columns to be used to identify the duplicates\r\n",
        "\r\n",
        "home_team = home_team.drop_duplicates(subset=['date', 'home_team', 'away_team','home_score','away_score','tournament', 'confederation'], keep='first')"
      ],
      "execution_count": 28,
      "outputs": []
    },
    {
      "cell_type": "code",
      "metadata": {
        "id": "UA1EmR1hujHy"
      },
      "source": [
        "# rename the rank column\r\n",
        "\r\n",
        "home_team.rename(columns={'rank':'home_team_rank'}, inplace=True)"
      ],
      "execution_count": 29,
      "outputs": []
    },
    {
      "cell_type": "code",
      "metadata": {
        "colab": {
          "base_uri": "https://localhost:8080/"
        },
        "id": "TQGb2FYgQgNu",
        "outputId": "fdc6516e-e71c-4966-e55a-353ec0630285"
      },
      "source": [
        "# check the shape of our cleaned dataset\r\n",
        "\r\n",
        "home_team.shape"
      ],
      "execution_count": 30,
      "outputs": [
        {
          "output_type": "execute_result",
          "data": {
            "text/plain": [
              "(35659, 11)"
            ]
          },
          "metadata": {
            "tags": []
          },
          "execution_count": 30
        }
      ]
    },
    {
      "cell_type": "code",
      "metadata": {
        "colab": {
          "base_uri": "https://localhost:8080/",
          "height": 0
        },
        "id": "17s8gL4KSHtg",
        "outputId": "b1dbb24f-19fd-49a4-f506-fa4d29eae4e8"
      },
      "source": [
        "# preview the first two rows of our cleaned home_team dataset. We have now merged the two datasets (fifa_rankings and results) and \r\n",
        "# picked the rank for the home team\r\n",
        "\r\n",
        "home_team.head(2)"
      ],
      "execution_count": 31,
      "outputs": [
        {
          "output_type": "execute_result",
          "data": {
            "text/html": [
              "<div>\n",
              "<style scoped>\n",
              "    .dataframe tbody tr th:only-of-type {\n",
              "        vertical-align: middle;\n",
              "    }\n",
              "\n",
              "    .dataframe tbody tr th {\n",
              "        vertical-align: top;\n",
              "    }\n",
              "\n",
              "    .dataframe thead th {\n",
              "        text-align: right;\n",
              "    }\n",
              "</style>\n",
              "<table border=\"1\" class=\"dataframe\">\n",
              "  <thead>\n",
              "    <tr style=\"text-align: right;\">\n",
              "      <th></th>\n",
              "      <th>date</th>\n",
              "      <th>home_team</th>\n",
              "      <th>away_team</th>\n",
              "      <th>home_score</th>\n",
              "      <th>away_score</th>\n",
              "      <th>tournament</th>\n",
              "      <th>home_team_rank</th>\n",
              "      <th>country_full</th>\n",
              "      <th>country_abrv</th>\n",
              "      <th>confederation</th>\n",
              "      <th>rank_date</th>\n",
              "    </tr>\n",
              "  </thead>\n",
              "  <tbody>\n",
              "    <tr>\n",
              "      <th>0</th>\n",
              "      <td>1872-11-30</td>\n",
              "      <td>Scotland</td>\n",
              "      <td>England</td>\n",
              "      <td>0</td>\n",
              "      <td>0</td>\n",
              "      <td>Friendly</td>\n",
              "      <td>30.0</td>\n",
              "      <td>Scotland</td>\n",
              "      <td>SCO</td>\n",
              "      <td>UEFA</td>\n",
              "      <td>1993-08-08</td>\n",
              "    </tr>\n",
              "    <tr>\n",
              "      <th>286</th>\n",
              "      <td>1873-03-08</td>\n",
              "      <td>England</td>\n",
              "      <td>Scotland</td>\n",
              "      <td>4</td>\n",
              "      <td>2</td>\n",
              "      <td>Friendly</td>\n",
              "      <td>11.0</td>\n",
              "      <td>England</td>\n",
              "      <td>ENG</td>\n",
              "      <td>UEFA</td>\n",
              "      <td>1993-08-08</td>\n",
              "    </tr>\n",
              "  </tbody>\n",
              "</table>\n",
              "</div>"
            ],
            "text/plain": [
              "          date home_team away_team  ...  country_abrv  confederation  rank_date\n",
              "0   1872-11-30  Scotland   England  ...           SCO           UEFA 1993-08-08\n",
              "286 1873-03-08   England  Scotland  ...           ENG           UEFA 1993-08-08\n",
              "\n",
              "[2 rows x 11 columns]"
            ]
          },
          "metadata": {
            "tags": []
          },
          "execution_count": 31
        }
      ]
    },
    {
      "cell_type": "markdown",
      "metadata": {
        "id": "6vrNhG30loJ8"
      },
      "source": [
        "## b) Merge based on the away_team"
      ]
    },
    {
      "cell_type": "code",
      "metadata": {
        "colab": {
          "base_uri": "https://localhost:8080/",
          "height": 0
        },
        "id": "CAtxX6QxlnqV",
        "outputId": "b4057cdb-727f-427a-f8c7-f6b070bf9273"
      },
      "source": [
        "# merge the results dataset and the fifa_rankings dataset based on the results away_team column. This will help to populate the\r\n",
        "# away teams rank in the combined dataset (away_team) as shown below\r\n",
        "\r\n",
        "away_team = pd.merge(results, fifa_ranking,left_on=['away_team'],right_on=['country_full'], how='left')\r\n",
        "\r\n",
        "away_team.head(3)\r\n",
        "\r\n",
        "# The rank of the away team has been apportioned based on the home teams rank on the rank_date column of the fifa_ranking dataset"
      ],
      "execution_count": 32,
      "outputs": [
        {
          "output_type": "execute_result",
          "data": {
            "text/html": [
              "<div>\n",
              "<style scoped>\n",
              "    .dataframe tbody tr th:only-of-type {\n",
              "        vertical-align: middle;\n",
              "    }\n",
              "\n",
              "    .dataframe tbody tr th {\n",
              "        vertical-align: top;\n",
              "    }\n",
              "\n",
              "    .dataframe thead th {\n",
              "        text-align: right;\n",
              "    }\n",
              "</style>\n",
              "<table border=\"1\" class=\"dataframe\">\n",
              "  <thead>\n",
              "    <tr style=\"text-align: right;\">\n",
              "      <th></th>\n",
              "      <th>date</th>\n",
              "      <th>home_team</th>\n",
              "      <th>away_team</th>\n",
              "      <th>home_score</th>\n",
              "      <th>away_score</th>\n",
              "      <th>tournament</th>\n",
              "      <th>rank</th>\n",
              "      <th>country_full</th>\n",
              "      <th>country_abrv</th>\n",
              "      <th>confederation</th>\n",
              "      <th>rank_date</th>\n",
              "    </tr>\n",
              "  </thead>\n",
              "  <tbody>\n",
              "    <tr>\n",
              "      <th>0</th>\n",
              "      <td>1872-11-30</td>\n",
              "      <td>Scotland</td>\n",
              "      <td>England</td>\n",
              "      <td>0</td>\n",
              "      <td>0</td>\n",
              "      <td>Friendly</td>\n",
              "      <td>11.0</td>\n",
              "      <td>England</td>\n",
              "      <td>ENG</td>\n",
              "      <td>UEFA</td>\n",
              "      <td>1993-08-08</td>\n",
              "    </tr>\n",
              "    <tr>\n",
              "      <th>1</th>\n",
              "      <td>1872-11-30</td>\n",
              "      <td>Scotland</td>\n",
              "      <td>England</td>\n",
              "      <td>0</td>\n",
              "      <td>0</td>\n",
              "      <td>Friendly</td>\n",
              "      <td>5.0</td>\n",
              "      <td>England</td>\n",
              "      <td>ENG</td>\n",
              "      <td>UEFA</td>\n",
              "      <td>1993-09-23</td>\n",
              "    </tr>\n",
              "    <tr>\n",
              "      <th>2</th>\n",
              "      <td>1872-11-30</td>\n",
              "      <td>Scotland</td>\n",
              "      <td>England</td>\n",
              "      <td>0</td>\n",
              "      <td>0</td>\n",
              "      <td>Friendly</td>\n",
              "      <td>10.0</td>\n",
              "      <td>England</td>\n",
              "      <td>ENG</td>\n",
              "      <td>UEFA</td>\n",
              "      <td>1993-10-22</td>\n",
              "    </tr>\n",
              "  </tbody>\n",
              "</table>\n",
              "</div>"
            ],
            "text/plain": [
              "        date home_team away_team  ...  country_abrv  confederation  rank_date\n",
              "0 1872-11-30  Scotland   England  ...           ENG           UEFA 1993-08-08\n",
              "1 1872-11-30  Scotland   England  ...           ENG           UEFA 1993-09-23\n",
              "2 1872-11-30  Scotland   England  ...           ENG           UEFA 1993-10-22\n",
              "\n",
              "[3 rows x 11 columns]"
            ]
          },
          "metadata": {
            "tags": []
          },
          "execution_count": 32
        }
      ]
    },
    {
      "cell_type": "code",
      "metadata": {
        "colab": {
          "base_uri": "https://localhost:8080/"
        },
        "id": "YRwN0XoYQiOh",
        "outputId": "51571b08-65dd-45d9-a09f-1a9ce157a20c"
      },
      "source": [
        "# check on the shape of our new home_team dataset. It shows that we have 10,195,473 rows. This is due to thye duplication that \r\n",
        "# occured during the merging process.\r\n",
        "\r\n",
        "away_team.shape"
      ],
      "execution_count": 33,
      "outputs": [
        {
          "output_type": "execute_result",
          "data": {
            "text/plain": [
              "(10195473, 11)"
            ]
          },
          "metadata": {
            "tags": []
          },
          "execution_count": 33
        }
      ]
    },
    {
      "cell_type": "code",
      "metadata": {
        "id": "7WKfZHJ6l_i8"
      },
      "source": [
        "# start cleaning to remove duplicates. We can remove some duplicates by specifying that the date that the game was played should\r\n",
        "# be less than the rank date. This ensures that the away team is assigned it's proper rank based on when the ranking was carried out\r\n",
        " \r\n",
        "away_team = away_team[away_team.date <= away_team.rank_date]"
      ],
      "execution_count": 34,
      "outputs": []
    },
    {
      "cell_type": "code",
      "metadata": {
        "colab": {
          "base_uri": "https://localhost:8080/"
        },
        "id": "xzWLDeO4mI_w",
        "outputId": "71b9a921-3c99-484e-dc10-b84306a94021"
      },
      "source": [
        "# Check how many rows have been dropped\r\n",
        "\r\n",
        "away_team.shape"
      ],
      "execution_count": 35,
      "outputs": [
        {
          "output_type": "execute_result",
          "data": {
            "text/plain": [
              "(7224733, 11)"
            ]
          },
          "metadata": {
            "tags": []
          },
          "execution_count": 35
        }
      ]
    },
    {
      "cell_type": "code",
      "metadata": {
        "id": "63fRVuommNga"
      },
      "source": [
        "# drop further duplicates by specifying the subsets of columns to be used to identify the duplicates\r\n",
        "\r\n",
        "away_team = away_team.drop_duplicates(subset=['date', 'home_team', 'away_team','home_score','away_score','tournament', 'confederation'], keep='first')"
      ],
      "execution_count": 36,
      "outputs": []
    },
    {
      "cell_type": "code",
      "metadata": {
        "colab": {
          "base_uri": "https://localhost:8080/"
        },
        "id": "CGGhu6G9ma4I",
        "outputId": "d359d7c1-dc3c-4a7f-a542-9574f81110ee"
      },
      "source": [
        "# check the shape of our cleaned dataset\r\n",
        "\r\n",
        "away_team.shape"
      ],
      "execution_count": 37,
      "outputs": [
        {
          "output_type": "execute_result",
          "data": {
            "text/plain": [
              "(35489, 11)"
            ]
          },
          "metadata": {
            "tags": []
          },
          "execution_count": 37
        }
      ]
    },
    {
      "cell_type": "code",
      "metadata": {
        "id": "BXAPVLdUvSNM"
      },
      "source": [
        "# rename the rank column\r\n",
        "\r\n",
        "away_team.rename(columns={'rank':'away_team_rank'}, inplace=True)"
      ],
      "execution_count": 38,
      "outputs": []
    },
    {
      "cell_type": "code",
      "metadata": {
        "colab": {
          "base_uri": "https://localhost:8080/",
          "height": 0
        },
        "id": "qJSiSEPtmgAB",
        "outputId": "9154cdb4-f59f-4680-da31-1a9ec555a116"
      },
      "source": [
        "# preview the first two rows of our cleaned home_team dataset. We have now merged the two datasets (fifa_rankings and results) and \r\n",
        "# picked the rank for the home team\r\n",
        "\r\n",
        "away_team.head(2)"
      ],
      "execution_count": 39,
      "outputs": [
        {
          "output_type": "execute_result",
          "data": {
            "text/html": [
              "<div>\n",
              "<style scoped>\n",
              "    .dataframe tbody tr th:only-of-type {\n",
              "        vertical-align: middle;\n",
              "    }\n",
              "\n",
              "    .dataframe tbody tr th {\n",
              "        vertical-align: top;\n",
              "    }\n",
              "\n",
              "    .dataframe thead th {\n",
              "        text-align: right;\n",
              "    }\n",
              "</style>\n",
              "<table border=\"1\" class=\"dataframe\">\n",
              "  <thead>\n",
              "    <tr style=\"text-align: right;\">\n",
              "      <th></th>\n",
              "      <th>date</th>\n",
              "      <th>home_team</th>\n",
              "      <th>away_team</th>\n",
              "      <th>home_score</th>\n",
              "      <th>away_score</th>\n",
              "      <th>tournament</th>\n",
              "      <th>away_team_rank</th>\n",
              "      <th>country_full</th>\n",
              "      <th>country_abrv</th>\n",
              "      <th>confederation</th>\n",
              "      <th>rank_date</th>\n",
              "    </tr>\n",
              "  </thead>\n",
              "  <tbody>\n",
              "    <tr>\n",
              "      <th>0</th>\n",
              "      <td>1872-11-30</td>\n",
              "      <td>Scotland</td>\n",
              "      <td>England</td>\n",
              "      <td>0</td>\n",
              "      <td>0</td>\n",
              "      <td>Friendly</td>\n",
              "      <td>11.0</td>\n",
              "      <td>England</td>\n",
              "      <td>ENG</td>\n",
              "      <td>UEFA</td>\n",
              "      <td>1993-08-08</td>\n",
              "    </tr>\n",
              "    <tr>\n",
              "      <th>286</th>\n",
              "      <td>1873-03-08</td>\n",
              "      <td>England</td>\n",
              "      <td>Scotland</td>\n",
              "      <td>4</td>\n",
              "      <td>2</td>\n",
              "      <td>Friendly</td>\n",
              "      <td>30.0</td>\n",
              "      <td>Scotland</td>\n",
              "      <td>SCO</td>\n",
              "      <td>UEFA</td>\n",
              "      <td>1993-08-08</td>\n",
              "    </tr>\n",
              "  </tbody>\n",
              "</table>\n",
              "</div>"
            ],
            "text/plain": [
              "          date home_team away_team  ...  country_abrv  confederation  rank_date\n",
              "0   1872-11-30  Scotland   England  ...           ENG           UEFA 1993-08-08\n",
              "286 1873-03-08   England  Scotland  ...           SCO           UEFA 1993-08-08\n",
              "\n",
              "[2 rows x 11 columns]"
            ]
          },
          "metadata": {
            "tags": []
          },
          "execution_count": 39
        }
      ]
    },
    {
      "cell_type": "markdown",
      "metadata": {
        "id": "Sz-eINhwm2L2"
      },
      "source": [
        "## c) Merge the away team and home team datasets"
      ]
    },
    {
      "cell_type": "code",
      "metadata": {
        "colab": {
          "base_uri": "https://localhost:8080/",
          "height": 213
        },
        "id": "wfawH0PlmqgQ",
        "outputId": "39c52dc1-48af-47f9-dc90-6e070d73c9e0"
      },
      "source": [
        "combined_dataset = pd.merge(away_team, home_team,left_on=['date'],right_on=['date'], how='left')\r\n",
        "\r\n",
        "combined_dataset.head(3)"
      ],
      "execution_count": 40,
      "outputs": [
        {
          "output_type": "execute_result",
          "data": {
            "text/html": [
              "<div>\n",
              "<style scoped>\n",
              "    .dataframe tbody tr th:only-of-type {\n",
              "        vertical-align: middle;\n",
              "    }\n",
              "\n",
              "    .dataframe tbody tr th {\n",
              "        vertical-align: top;\n",
              "    }\n",
              "\n",
              "    .dataframe thead th {\n",
              "        text-align: right;\n",
              "    }\n",
              "</style>\n",
              "<table border=\"1\" class=\"dataframe\">\n",
              "  <thead>\n",
              "    <tr style=\"text-align: right;\">\n",
              "      <th></th>\n",
              "      <th>date</th>\n",
              "      <th>home_team_x</th>\n",
              "      <th>away_team_x</th>\n",
              "      <th>home_score_x</th>\n",
              "      <th>away_score_x</th>\n",
              "      <th>tournament_x</th>\n",
              "      <th>away_team_rank</th>\n",
              "      <th>country_full_x</th>\n",
              "      <th>country_abrv_x</th>\n",
              "      <th>confederation_x</th>\n",
              "      <th>rank_date_x</th>\n",
              "      <th>home_team_y</th>\n",
              "      <th>away_team_y</th>\n",
              "      <th>home_score_y</th>\n",
              "      <th>away_score_y</th>\n",
              "      <th>tournament_y</th>\n",
              "      <th>home_team_rank</th>\n",
              "      <th>country_full_y</th>\n",
              "      <th>country_abrv_y</th>\n",
              "      <th>confederation_y</th>\n",
              "      <th>rank_date_y</th>\n",
              "    </tr>\n",
              "  </thead>\n",
              "  <tbody>\n",
              "    <tr>\n",
              "      <th>0</th>\n",
              "      <td>1872-11-30</td>\n",
              "      <td>Scotland</td>\n",
              "      <td>England</td>\n",
              "      <td>0</td>\n",
              "      <td>0</td>\n",
              "      <td>Friendly</td>\n",
              "      <td>11.0</td>\n",
              "      <td>England</td>\n",
              "      <td>ENG</td>\n",
              "      <td>UEFA</td>\n",
              "      <td>1993-08-08</td>\n",
              "      <td>Scotland</td>\n",
              "      <td>England</td>\n",
              "      <td>0.0</td>\n",
              "      <td>0.0</td>\n",
              "      <td>Friendly</td>\n",
              "      <td>30.0</td>\n",
              "      <td>Scotland</td>\n",
              "      <td>SCO</td>\n",
              "      <td>UEFA</td>\n",
              "      <td>1993-08-08</td>\n",
              "    </tr>\n",
              "    <tr>\n",
              "      <th>1</th>\n",
              "      <td>1873-03-08</td>\n",
              "      <td>England</td>\n",
              "      <td>Scotland</td>\n",
              "      <td>4</td>\n",
              "      <td>2</td>\n",
              "      <td>Friendly</td>\n",
              "      <td>30.0</td>\n",
              "      <td>Scotland</td>\n",
              "      <td>SCO</td>\n",
              "      <td>UEFA</td>\n",
              "      <td>1993-08-08</td>\n",
              "      <td>England</td>\n",
              "      <td>Scotland</td>\n",
              "      <td>4.0</td>\n",
              "      <td>2.0</td>\n",
              "      <td>Friendly</td>\n",
              "      <td>11.0</td>\n",
              "      <td>England</td>\n",
              "      <td>ENG</td>\n",
              "      <td>UEFA</td>\n",
              "      <td>1993-08-08</td>\n",
              "    </tr>\n",
              "    <tr>\n",
              "      <th>2</th>\n",
              "      <td>1874-03-07</td>\n",
              "      <td>Scotland</td>\n",
              "      <td>England</td>\n",
              "      <td>2</td>\n",
              "      <td>1</td>\n",
              "      <td>Friendly</td>\n",
              "      <td>11.0</td>\n",
              "      <td>England</td>\n",
              "      <td>ENG</td>\n",
              "      <td>UEFA</td>\n",
              "      <td>1993-08-08</td>\n",
              "      <td>Scotland</td>\n",
              "      <td>England</td>\n",
              "      <td>2.0</td>\n",
              "      <td>1.0</td>\n",
              "      <td>Friendly</td>\n",
              "      <td>30.0</td>\n",
              "      <td>Scotland</td>\n",
              "      <td>SCO</td>\n",
              "      <td>UEFA</td>\n",
              "      <td>1993-08-08</td>\n",
              "    </tr>\n",
              "  </tbody>\n",
              "</table>\n",
              "</div>"
            ],
            "text/plain": [
              "        date home_team_x away_team_x  ...  country_abrv_y  confederation_y rank_date_y\n",
              "0 1872-11-30    Scotland     England  ...             SCO             UEFA  1993-08-08\n",
              "1 1873-03-08     England    Scotland  ...             ENG             UEFA  1993-08-08\n",
              "2 1874-03-07    Scotland     England  ...             SCO             UEFA  1993-08-08\n",
              "\n",
              "[3 rows x 21 columns]"
            ]
          },
          "metadata": {
            "tags": []
          },
          "execution_count": 40
        }
      ]
    },
    {
      "cell_type": "code",
      "metadata": {
        "colab": {
          "base_uri": "https://localhost:8080/",
          "height": 202
        },
        "id": "OZ3tIK0SvaVn",
        "outputId": "7af53f26-5a88-4103-99b8-2e832793ae80"
      },
      "source": [
        "# drop duplicate and unnecessary columns\r\n",
        "\r\n",
        "combined_dataset = combined_dataset.drop(['home_team_y', 'away_team_y', 'home_score_y', 'away_score_y', \r\n",
        "                                          'tournament_y', 'country_full_y', 'country_abrv_y', 'confederation_y',\r\n",
        "                                          'country_full_x', 'country_abrv_x', 'confederation_x', 'rank_date_y', 'rank_date_x'], 1)\r\n",
        "\r\n",
        "combined_dataset.head()"
      ],
      "execution_count": 41,
      "outputs": [
        {
          "output_type": "execute_result",
          "data": {
            "text/html": [
              "<div>\n",
              "<style scoped>\n",
              "    .dataframe tbody tr th:only-of-type {\n",
              "        vertical-align: middle;\n",
              "    }\n",
              "\n",
              "    .dataframe tbody tr th {\n",
              "        vertical-align: top;\n",
              "    }\n",
              "\n",
              "    .dataframe thead th {\n",
              "        text-align: right;\n",
              "    }\n",
              "</style>\n",
              "<table border=\"1\" class=\"dataframe\">\n",
              "  <thead>\n",
              "    <tr style=\"text-align: right;\">\n",
              "      <th></th>\n",
              "      <th>date</th>\n",
              "      <th>home_team_x</th>\n",
              "      <th>away_team_x</th>\n",
              "      <th>home_score_x</th>\n",
              "      <th>away_score_x</th>\n",
              "      <th>tournament_x</th>\n",
              "      <th>away_team_rank</th>\n",
              "      <th>home_team_rank</th>\n",
              "    </tr>\n",
              "  </thead>\n",
              "  <tbody>\n",
              "    <tr>\n",
              "      <th>0</th>\n",
              "      <td>1872-11-30</td>\n",
              "      <td>Scotland</td>\n",
              "      <td>England</td>\n",
              "      <td>0</td>\n",
              "      <td>0</td>\n",
              "      <td>Friendly</td>\n",
              "      <td>11.0</td>\n",
              "      <td>30.0</td>\n",
              "    </tr>\n",
              "    <tr>\n",
              "      <th>1</th>\n",
              "      <td>1873-03-08</td>\n",
              "      <td>England</td>\n",
              "      <td>Scotland</td>\n",
              "      <td>4</td>\n",
              "      <td>2</td>\n",
              "      <td>Friendly</td>\n",
              "      <td>30.0</td>\n",
              "      <td>11.0</td>\n",
              "    </tr>\n",
              "    <tr>\n",
              "      <th>2</th>\n",
              "      <td>1874-03-07</td>\n",
              "      <td>Scotland</td>\n",
              "      <td>England</td>\n",
              "      <td>2</td>\n",
              "      <td>1</td>\n",
              "      <td>Friendly</td>\n",
              "      <td>11.0</td>\n",
              "      <td>30.0</td>\n",
              "    </tr>\n",
              "    <tr>\n",
              "      <th>3</th>\n",
              "      <td>1875-03-06</td>\n",
              "      <td>England</td>\n",
              "      <td>Scotland</td>\n",
              "      <td>2</td>\n",
              "      <td>2</td>\n",
              "      <td>Friendly</td>\n",
              "      <td>30.0</td>\n",
              "      <td>11.0</td>\n",
              "    </tr>\n",
              "    <tr>\n",
              "      <th>4</th>\n",
              "      <td>1876-03-04</td>\n",
              "      <td>Scotland</td>\n",
              "      <td>England</td>\n",
              "      <td>3</td>\n",
              "      <td>0</td>\n",
              "      <td>Friendly</td>\n",
              "      <td>11.0</td>\n",
              "      <td>30.0</td>\n",
              "    </tr>\n",
              "  </tbody>\n",
              "</table>\n",
              "</div>"
            ],
            "text/plain": [
              "        date home_team_x  ... away_team_rank  home_team_rank\n",
              "0 1872-11-30    Scotland  ...           11.0            30.0\n",
              "1 1873-03-08     England  ...           30.0            11.0\n",
              "2 1874-03-07    Scotland  ...           11.0            30.0\n",
              "3 1875-03-06     England  ...           30.0            11.0\n",
              "4 1876-03-04    Scotland  ...           11.0            30.0\n",
              "\n",
              "[5 rows x 8 columns]"
            ]
          },
          "metadata": {
            "tags": []
          },
          "execution_count": 41
        }
      ]
    },
    {
      "cell_type": "code",
      "metadata": {
        "colab": {
          "base_uri": "https://localhost:8080/"
        },
        "id": "-YLkuRymnRTv",
        "outputId": "8626e8ed-1028-430e-cde4-9b9a6341685e"
      },
      "source": [
        "# drop duplicates\r\n",
        "\r\n",
        "combined_dataset=combined_dataset.drop_duplicates(subset=['home_team_x', 'away_team_x', 'home_score_x', 'away_score_x', 'tournament_x'])\r\n",
        "\r\n",
        "combined_dataset.shape"
      ],
      "execution_count": 42,
      "outputs": [
        {
          "output_type": "execute_result",
          "data": {
            "text/plain": [
              "(31642, 8)"
            ]
          },
          "metadata": {
            "tags": []
          },
          "execution_count": 42
        }
      ]
    },
    {
      "cell_type": "code",
      "metadata": {
        "id": "Ax60CqMdyVwN"
      },
      "source": [
        "# rename columns\r\n",
        "\r\n",
        "combined_dataset.rename(columns={'home_score_x': 'home_score', \r\n",
        "                                 'away_score_x': 'away_score', 'tournament_x': 'tournament'}, inplace=True)"
      ],
      "execution_count": 43,
      "outputs": []
    },
    {
      "cell_type": "code",
      "metadata": {
        "colab": {
          "base_uri": "https://localhost:8080/"
        },
        "id": "olFmuXiUnX8X",
        "outputId": "ef3df5e5-467d-4e2f-ae6c-3b1dc92fb708"
      },
      "source": [
        "# check for null values\r\n",
        "\r\n",
        "combined_dataset.isnull().sum()"
      ],
      "execution_count": 44,
      "outputs": [
        {
          "output_type": "execute_result",
          "data": {
            "text/plain": [
              "date                0\n",
              "home_team_x         0\n",
              "away_team_x         0\n",
              "home_score          0\n",
              "away_score          0\n",
              "tournament          0\n",
              "away_team_rank      0\n",
              "home_team_rank    617\n",
              "dtype: int64"
            ]
          },
          "metadata": {
            "tags": []
          },
          "execution_count": 44
        }
      ]
    },
    {
      "cell_type": "code",
      "metadata": {
        "id": "mhyPB6BAwoTx"
      },
      "source": [
        "# drop null values\r\n",
        "\r\n",
        "combined_dataset = combined_dataset.dropna()"
      ],
      "execution_count": 45,
      "outputs": []
    },
    {
      "cell_type": "code",
      "metadata": {
        "colab": {
          "base_uri": "https://localhost:8080/"
        },
        "id": "okEQJYvUwuDB",
        "outputId": "1b798e59-1cdf-4813-ddec-cf19db5336e2"
      },
      "source": [
        "# check that the null values have been dropped\r\n",
        "\r\n",
        "print(combined_dataset.isnull().sum())\r\n",
        "\r\n",
        "print('*'*70)\r\n",
        "\r\n",
        "print(combined_dataset.shape)"
      ],
      "execution_count": 46,
      "outputs": [
        {
          "output_type": "stream",
          "text": [
            "date              0\n",
            "home_team_x       0\n",
            "away_team_x       0\n",
            "home_score        0\n",
            "away_score        0\n",
            "tournament        0\n",
            "away_team_rank    0\n",
            "home_team_rank    0\n",
            "dtype: int64\n",
            "**********************************************************************\n",
            "(31025, 8)\n"
          ],
          "name": "stdout"
        }
      ]
    },
    {
      "cell_type": "code",
      "metadata": {
        "id": "u5FPc3eidUdu"
      },
      "source": [
        "# drop the home_team and _away team columns. These couldn't be dropped earlier as they were needed to check for duplicates\r\n",
        "\r\n",
        "combined_dataset = combined_dataset.drop(['home_team_x', 'away_team_x'], axis = 1)"
      ],
      "execution_count": 48,
      "outputs": []
    },
    {
      "cell_type": "code",
      "metadata": {
        "colab": {
          "base_uri": "https://localhost:8080/",
          "height": 110
        },
        "id": "m_pIk6wIxqmh",
        "outputId": "c5e08dc4-8325-43ba-8382-3afd40d98dcc"
      },
      "source": [
        "# preview the dataset\r\n",
        "\r\n",
        "combined_dataset.head(2)"
      ],
      "execution_count": 49,
      "outputs": [
        {
          "output_type": "execute_result",
          "data": {
            "text/html": [
              "<div>\n",
              "<style scoped>\n",
              "    .dataframe tbody tr th:only-of-type {\n",
              "        vertical-align: middle;\n",
              "    }\n",
              "\n",
              "    .dataframe tbody tr th {\n",
              "        vertical-align: top;\n",
              "    }\n",
              "\n",
              "    .dataframe thead th {\n",
              "        text-align: right;\n",
              "    }\n",
              "</style>\n",
              "<table border=\"1\" class=\"dataframe\">\n",
              "  <thead>\n",
              "    <tr style=\"text-align: right;\">\n",
              "      <th></th>\n",
              "      <th>date</th>\n",
              "      <th>home_score</th>\n",
              "      <th>away_score</th>\n",
              "      <th>tournament</th>\n",
              "      <th>away_team_rank</th>\n",
              "      <th>home_team_rank</th>\n",
              "    </tr>\n",
              "  </thead>\n",
              "  <tbody>\n",
              "    <tr>\n",
              "      <th>0</th>\n",
              "      <td>1872-11-30</td>\n",
              "      <td>0</td>\n",
              "      <td>0</td>\n",
              "      <td>Friendly</td>\n",
              "      <td>11.0</td>\n",
              "      <td>30.0</td>\n",
              "    </tr>\n",
              "    <tr>\n",
              "      <th>1</th>\n",
              "      <td>1873-03-08</td>\n",
              "      <td>4</td>\n",
              "      <td>2</td>\n",
              "      <td>Friendly</td>\n",
              "      <td>30.0</td>\n",
              "      <td>11.0</td>\n",
              "    </tr>\n",
              "  </tbody>\n",
              "</table>\n",
              "</div>"
            ],
            "text/plain": [
              "        date  home_score  away_score tournament  away_team_rank  home_team_rank\n",
              "0 1872-11-30           0           0   Friendly            11.0            30.0\n",
              "1 1873-03-08           4           2   Friendly            30.0            11.0"
            ]
          },
          "metadata": {
            "tags": []
          },
          "execution_count": 49
        }
      ]
    },
    {
      "cell_type": "code",
      "metadata": {
        "colab": {
          "base_uri": "https://localhost:8080/"
        },
        "id": "kmPlyDjK0gja",
        "outputId": "6c9c45cd-511a-4f2b-fc15-a0d8f754fe94"
      },
      "source": [
        "print(combined_dataset['tournament'].nunique())\r\n",
        "\r\n",
        "# We have 101 unique entries and we need to reduce this to 3 i.e. World Cup, Friendly and Other\r\n",
        "\r\n",
        "# Replace FIFA World Cup and FIFA World Cup qaulification\r\n",
        "combined_dataset[\"tournament\"].replace({\"FIFA World Cup\": \"World Cup\", \"FIFA World Cup qualification\": \"World Cup\"}, inplace=True)"
      ],
      "execution_count": 50,
      "outputs": [
        {
          "output_type": "stream",
          "text": [
            "101\n"
          ],
          "name": "stdout"
        }
      ]
    },
    {
      "cell_type": "code",
      "metadata": {
        "colab": {
          "base_uri": "https://localhost:8080/"
        },
        "id": "zhiOh9_k9KjD",
        "outputId": "886ec4bf-c387-4e46-8306-a1410b9b52be"
      },
      "source": [
        "combined_dataset['tournament'].unique() # check for the unique values"
      ],
      "execution_count": 51,
      "outputs": [
        {
          "output_type": "execute_result",
          "data": {
            "text/plain": [
              "array(['Friendly', 'British Championship', 'Copa Lipton', 'Copa Newton',\n",
              "       'Copa Premio Honor Argentino', 'Copa Premio Honor Uruguayo',\n",
              "       'Copa Roca', 'Copa América', 'Copa Chevallier Boutell',\n",
              "       'Nordic Championship', 'International Cup', 'Baltic Cup',\n",
              "       'Balkan Cup', 'World Cup', 'Copa Rio Branco', 'CCCF Championship',\n",
              "       'NAFU Championship', 'Copa Oswaldo Cruz',\n",
              "       'Pan American Championship', 'Copa del Pacífico',\n",
              "       \"Copa Bernardo O'Higgins\", 'AFC Asian Cup qualification',\n",
              "       'Atlantic Cup', 'AFC Asian Cup', 'African Cup of Nations',\n",
              "       'Copa Paz del Chaco', 'Merdeka Tournament',\n",
              "       'UEFA Euro qualification', 'UEFA Euro',\n",
              "       'Windward Islands Tournament',\n",
              "       'African Cup of Nations qualification', 'Vietnam Independence Cup',\n",
              "       'Copa Carlos Dittborn', 'CONCACAF Championship',\n",
              "       'Copa Juan Pinto Durán', 'UAFA Cup', 'South Pacific Games',\n",
              "       'CONCACAF Championship qualification', 'Copa Artigas', 'GaNEFo',\n",
              "       \"King's Cup\", 'Gulf Cup', 'Indonesia Tournament', 'Korea Cup',\n",
              "       'Brazil Independence Cup', 'Copa Ramón Castilla',\n",
              "       'Oceania Nations Cup', 'CECAFA Cup', 'Copa Félix Bogado',\n",
              "       'Kirin Cup', 'CFU Caribbean Cup qualification',\n",
              "       'CFU Caribbean Cup', 'Amílcar Cabral Cup', 'Mundialito',\n",
              "       'West African Cup', 'Nehru Cup', 'Merlion Cup', 'UDEAC Cup',\n",
              "       'Rous Cup', 'Tournoi de France', 'Malta International Tournament',\n",
              "       'Lunar New Year Cup', 'Dynasty Cup', 'UNCAF Cup', 'Gold Cup',\n",
              "       'USA Cup', 'Jordan International Tournament', 'Confederations Cup',\n",
              "       'Island Games', 'United Arab Emirates Friendship Tournament',\n",
              "       'Oceania Nations Cup qualification', 'Simba Tournament',\n",
              "       'SAFF Cup', 'AFF Championship', 'King Hassan II Tournament',\n",
              "       'Cyprus International Tournament', 'Dunhill Cup', 'COSAFA Cup',\n",
              "       'Gold Cup qualification', 'SKN Football Festival', 'UNIFFAC Cup',\n",
              "       'WAFF Championship', 'Millennium Cup', \"Prime Minister's Cup\",\n",
              "       'EAFF Championship', 'AFC Challenge Cup', 'FIFI Wild Cup',\n",
              "       'ELF Cup', 'UAFA Cup qualification',\n",
              "       'AFC Challenge Cup qualification', 'African Nations Championship',\n",
              "       'VFF Cup', 'Dragon Cup', 'ABCS Tournament',\n",
              "       'Nile Basin Tournament', 'Nations Cup', 'Pacific Games', 'OSN Cup',\n",
              "       'Copa América qualification', 'Intercontinental Cup'], dtype=object)"
            ]
          },
          "metadata": {
            "tags": []
          },
          "execution_count": 51
        }
      ]
    },
    {
      "cell_type": "code",
      "metadata": {
        "id": "mXum9TaD9eYh"
      },
      "source": [
        "# Replace values that are not World Cup or Friendly with Other\r\n",
        "\r\n",
        "combined_dataset.replace(['British Championship', 'Copa Lipton', 'Copa Newton',\r\n",
        "       'Copa Premio Honor Argentino', 'Copa Premio Honor Uruguayo',\r\n",
        "       'Copa Roca', 'Copa América', 'Copa Chevallier Boutell',\r\n",
        "       'Nordic Championship', 'International Cup', 'Baltic Cup',\r\n",
        "       'Balkan Cup', 'Copa Rio Branco', 'CCCF Championship',\r\n",
        "       'NAFU Championship', 'Copa Oswaldo Cruz',\r\n",
        "       'Pan American Championship', 'Copa del Pacífico',\r\n",
        "       \"Copa Bernardo O'Higgins\", 'AFC Asian Cup qualification',\r\n",
        "       'Atlantic Cup', 'AFC Asian Cup', 'African Cup of Nations',\r\n",
        "       'Copa Paz del Chaco', 'Merdeka Tournament',\r\n",
        "       'UEFA Euro qualification', 'UEFA Euro',\r\n",
        "       'Windward Islands Tournament',\r\n",
        "       'African Cup of Nations qualification', 'Vietnam Independence Cup',\r\n",
        "       'Copa Carlos Dittborn', 'CONCACAF Championship',\r\n",
        "       'Copa Juan Pinto Durán', 'UAFA Cup', 'South Pacific Games',\r\n",
        "       'CONCACAF Championship qualification', 'Copa Artigas', 'GaNEFo',\r\n",
        "       \"King's Cup\", 'Gulf Cup', 'Indonesia Tournament', 'Korea Cup',\r\n",
        "       'Brazil Independence Cup', 'Copa Ramón Castilla',\r\n",
        "       'Oceania Nations Cup', 'CECAFA Cup', 'Copa Félix Bogado',\r\n",
        "       'Kirin Cup', 'CFU Caribbean Cup qualification',\r\n",
        "       'CFU Caribbean Cup', 'Amílcar Cabral Cup', 'Mundialito',\r\n",
        "       'West African Cup', 'Nehru Cup', 'Merlion Cup', 'UDEAC Cup',\r\n",
        "       'Rous Cup', 'Tournoi de France', 'Malta International Tournament',\r\n",
        "       'Lunar New Year Cup', 'Dynasty Cup', 'UNCAF Cup', 'Gold Cup',\r\n",
        "       'USA Cup', 'Jordan International Tournament', 'Confederations Cup',\r\n",
        "       'Island Games', 'United Arab Emirates Friendship Tournament',\r\n",
        "       'Oceania Nations Cup qualification', 'Simba Tournament',\r\n",
        "       'SAFF Cup', 'AFF Championship', 'King Hassan II Tournament',\r\n",
        "       'Cyprus International Tournament', 'Dunhill Cup', 'COSAFA Cup',\r\n",
        "       'Gold Cup qualification', 'SKN Football Festival', 'UNIFFAC Cup',\r\n",
        "       'WAFF Championship', 'Millennium Cup', \"Prime Minister's Cup\",\r\n",
        "       'EAFF Championship', 'AFC Challenge Cup', 'FIFI Wild Cup',\r\n",
        "       'ELF Cup', 'UAFA Cup qualification',\r\n",
        "       'AFC Challenge Cup qualification', 'African Nations Championship',\r\n",
        "       'VFF Cup', 'Dragon Cup', 'ABCS Tournament',\r\n",
        "       'Nile Basin Tournament', 'Nations Cup', 'Pacific Games', 'OSN Cup',\r\n",
        "       'Copa América qualification', 'Intercontinental Cup'],'Other', inplace=True)\r\n"
      ],
      "execution_count": 52,
      "outputs": []
    },
    {
      "cell_type": "code",
      "metadata": {
        "colab": {
          "base_uri": "https://localhost:8080/"
        },
        "id": "leKcTeZv-BJD",
        "outputId": "a12ae67a-6e04-4cd4-dd52-70d049d6a9c4"
      },
      "source": [
        "combined_dataset['tournament'].unique() # Check that the replacement has been successful"
      ],
      "execution_count": 53,
      "outputs": [
        {
          "output_type": "execute_result",
          "data": {
            "text/plain": [
              "array(['Friendly', 'Other', 'World Cup'], dtype=object)"
            ]
          },
          "metadata": {
            "tags": []
          },
          "execution_count": 53
        }
      ]
    },
    {
      "cell_type": "code",
      "metadata": {
        "colab": {
          "base_uri": "https://localhost:8080/",
          "height": 202
        },
        "id": "8Ql-eP_7eESv",
        "outputId": "5fba040e-7ecd-4f74-bb71-b408f46e7b9d"
      },
      "source": [
        "# label encode the data in the tournament column\r\n",
        "\r\n",
        "# First convert the categorical data in the tournament column into numerical values\r\n",
        "\r\n",
        "tournament_type = pd.get_dummies(combined_dataset['tournament'],drop_first=False)\r\n",
        "tournament_type.head()\r\n"
      ],
      "execution_count": 55,
      "outputs": [
        {
          "output_type": "execute_result",
          "data": {
            "text/html": [
              "<div>\n",
              "<style scoped>\n",
              "    .dataframe tbody tr th:only-of-type {\n",
              "        vertical-align: middle;\n",
              "    }\n",
              "\n",
              "    .dataframe tbody tr th {\n",
              "        vertical-align: top;\n",
              "    }\n",
              "\n",
              "    .dataframe thead th {\n",
              "        text-align: right;\n",
              "    }\n",
              "</style>\n",
              "<table border=\"1\" class=\"dataframe\">\n",
              "  <thead>\n",
              "    <tr style=\"text-align: right;\">\n",
              "      <th></th>\n",
              "      <th>Friendly</th>\n",
              "      <th>Other</th>\n",
              "      <th>World Cup</th>\n",
              "    </tr>\n",
              "  </thead>\n",
              "  <tbody>\n",
              "    <tr>\n",
              "      <th>0</th>\n",
              "      <td>1</td>\n",
              "      <td>0</td>\n",
              "      <td>0</td>\n",
              "    </tr>\n",
              "    <tr>\n",
              "      <th>1</th>\n",
              "      <td>1</td>\n",
              "      <td>0</td>\n",
              "      <td>0</td>\n",
              "    </tr>\n",
              "    <tr>\n",
              "      <th>2</th>\n",
              "      <td>1</td>\n",
              "      <td>0</td>\n",
              "      <td>0</td>\n",
              "    </tr>\n",
              "    <tr>\n",
              "      <th>3</th>\n",
              "      <td>1</td>\n",
              "      <td>0</td>\n",
              "      <td>0</td>\n",
              "    </tr>\n",
              "    <tr>\n",
              "      <th>4</th>\n",
              "      <td>1</td>\n",
              "      <td>0</td>\n",
              "      <td>0</td>\n",
              "    </tr>\n",
              "  </tbody>\n",
              "</table>\n",
              "</div>"
            ],
            "text/plain": [
              "   Friendly  Other  World Cup\n",
              "0         1      0          0\n",
              "1         1      0          0\n",
              "2         1      0          0\n",
              "3         1      0          0\n",
              "4         1      0          0"
            ]
          },
          "metadata": {
            "tags": []
          },
          "execution_count": 55
        }
      ]
    },
    {
      "cell_type": "code",
      "metadata": {
        "colab": {
          "base_uri": "https://localhost:8080/",
          "height": 110
        },
        "id": "5Kg_tF90fbQt",
        "outputId": "ecfa45e2-3aa4-4f41-91a8-cb2959fcb0d1"
      },
      "source": [
        "# drop the categorical variables\r\n",
        "\r\n",
        "combined_dataset.drop(['tournament'],axis=1,inplace=True)\r\n",
        "\r\n",
        "combined_dataset.head(2)"
      ],
      "execution_count": 56,
      "outputs": [
        {
          "output_type": "execute_result",
          "data": {
            "text/html": [
              "<div>\n",
              "<style scoped>\n",
              "    .dataframe tbody tr th:only-of-type {\n",
              "        vertical-align: middle;\n",
              "    }\n",
              "\n",
              "    .dataframe tbody tr th {\n",
              "        vertical-align: top;\n",
              "    }\n",
              "\n",
              "    .dataframe thead th {\n",
              "        text-align: right;\n",
              "    }\n",
              "</style>\n",
              "<table border=\"1\" class=\"dataframe\">\n",
              "  <thead>\n",
              "    <tr style=\"text-align: right;\">\n",
              "      <th></th>\n",
              "      <th>date</th>\n",
              "      <th>home_score</th>\n",
              "      <th>away_score</th>\n",
              "      <th>away_team_rank</th>\n",
              "      <th>home_team_rank</th>\n",
              "    </tr>\n",
              "  </thead>\n",
              "  <tbody>\n",
              "    <tr>\n",
              "      <th>0</th>\n",
              "      <td>1872-11-30</td>\n",
              "      <td>0</td>\n",
              "      <td>0</td>\n",
              "      <td>11.0</td>\n",
              "      <td>30.0</td>\n",
              "    </tr>\n",
              "    <tr>\n",
              "      <th>1</th>\n",
              "      <td>1873-03-08</td>\n",
              "      <td>4</td>\n",
              "      <td>2</td>\n",
              "      <td>30.0</td>\n",
              "      <td>11.0</td>\n",
              "    </tr>\n",
              "  </tbody>\n",
              "</table>\n",
              "</div>"
            ],
            "text/plain": [
              "        date  home_score  away_score  away_team_rank  home_team_rank\n",
              "0 1872-11-30           0           0            11.0            30.0\n",
              "1 1873-03-08           4           2            30.0            11.0"
            ]
          },
          "metadata": {
            "tags": []
          },
          "execution_count": 56
        }
      ]
    },
    {
      "cell_type": "code",
      "metadata": {
        "colab": {
          "base_uri": "https://localhost:8080/",
          "height": 202
        },
        "id": "AKa5wolMi4LQ",
        "outputId": "fc408abd-8f96-447b-e1b3-34081198bc77"
      },
      "source": [
        "# import the encoded tournament_type dataset into the combined_dataset\r\n",
        "\r\n",
        "combined_dataset = pd.concat([combined_dataset,tournament_type],axis=1)\r\n",
        "\r\n",
        "combined_dataset.head()"
      ],
      "execution_count": 57,
      "outputs": [
        {
          "output_type": "execute_result",
          "data": {
            "text/html": [
              "<div>\n",
              "<style scoped>\n",
              "    .dataframe tbody tr th:only-of-type {\n",
              "        vertical-align: middle;\n",
              "    }\n",
              "\n",
              "    .dataframe tbody tr th {\n",
              "        vertical-align: top;\n",
              "    }\n",
              "\n",
              "    .dataframe thead th {\n",
              "        text-align: right;\n",
              "    }\n",
              "</style>\n",
              "<table border=\"1\" class=\"dataframe\">\n",
              "  <thead>\n",
              "    <tr style=\"text-align: right;\">\n",
              "      <th></th>\n",
              "      <th>date</th>\n",
              "      <th>home_score</th>\n",
              "      <th>away_score</th>\n",
              "      <th>away_team_rank</th>\n",
              "      <th>home_team_rank</th>\n",
              "      <th>Friendly</th>\n",
              "      <th>Other</th>\n",
              "      <th>World Cup</th>\n",
              "    </tr>\n",
              "  </thead>\n",
              "  <tbody>\n",
              "    <tr>\n",
              "      <th>0</th>\n",
              "      <td>1872-11-30</td>\n",
              "      <td>0</td>\n",
              "      <td>0</td>\n",
              "      <td>11.0</td>\n",
              "      <td>30.0</td>\n",
              "      <td>1</td>\n",
              "      <td>0</td>\n",
              "      <td>0</td>\n",
              "    </tr>\n",
              "    <tr>\n",
              "      <th>1</th>\n",
              "      <td>1873-03-08</td>\n",
              "      <td>4</td>\n",
              "      <td>2</td>\n",
              "      <td>30.0</td>\n",
              "      <td>11.0</td>\n",
              "      <td>1</td>\n",
              "      <td>0</td>\n",
              "      <td>0</td>\n",
              "    </tr>\n",
              "    <tr>\n",
              "      <th>2</th>\n",
              "      <td>1874-03-07</td>\n",
              "      <td>2</td>\n",
              "      <td>1</td>\n",
              "      <td>11.0</td>\n",
              "      <td>30.0</td>\n",
              "      <td>1</td>\n",
              "      <td>0</td>\n",
              "      <td>0</td>\n",
              "    </tr>\n",
              "    <tr>\n",
              "      <th>3</th>\n",
              "      <td>1875-03-06</td>\n",
              "      <td>2</td>\n",
              "      <td>2</td>\n",
              "      <td>30.0</td>\n",
              "      <td>11.0</td>\n",
              "      <td>1</td>\n",
              "      <td>0</td>\n",
              "      <td>0</td>\n",
              "    </tr>\n",
              "    <tr>\n",
              "      <th>4</th>\n",
              "      <td>1876-03-04</td>\n",
              "      <td>3</td>\n",
              "      <td>0</td>\n",
              "      <td>11.0</td>\n",
              "      <td>30.0</td>\n",
              "      <td>1</td>\n",
              "      <td>0</td>\n",
              "      <td>0</td>\n",
              "    </tr>\n",
              "  </tbody>\n",
              "</table>\n",
              "</div>"
            ],
            "text/plain": [
              "        date  home_score  away_score  ...  Friendly  Other  World Cup\n",
              "0 1872-11-30           0           0  ...         1      0          0\n",
              "1 1873-03-08           4           2  ...         1      0          0\n",
              "2 1874-03-07           2           1  ...         1      0          0\n",
              "3 1875-03-06           2           2  ...         1      0          0\n",
              "4 1876-03-04           3           0  ...         1      0          0\n",
              "\n",
              "[5 rows x 8 columns]"
            ]
          },
          "metadata": {
            "tags": []
          },
          "execution_count": 57
        }
      ]
    },
    {
      "cell_type": "markdown",
      "metadata": {
        "id": "BPjLByZuxIaX"
      },
      "source": [
        "# 3. Perform Univariate Analysis"
      ]
    },
    {
      "cell_type": "code",
      "metadata": {
        "id": "NczCRnuLA6zZ"
      },
      "source": [
        "# import librarires\r\n",
        "\r\n",
        "import matplotlib.pyplot as plt \r\n",
        "% matplotlib inline \r\n",
        "import seaborn as sns"
      ],
      "execution_count": 58,
      "outputs": []
    },
    {
      "cell_type": "code",
      "metadata": {
        "colab": {
          "base_uri": "https://localhost:8080/",
          "height": 110
        },
        "id": "WrQfSZOv0Ta_",
        "outputId": "410bd6bb-a835-4d0b-c55d-00fe26c91862"
      },
      "source": [
        "combined_dataset.head(2) # preview the data"
      ],
      "execution_count": 59,
      "outputs": [
        {
          "output_type": "execute_result",
          "data": {
            "text/html": [
              "<div>\n",
              "<style scoped>\n",
              "    .dataframe tbody tr th:only-of-type {\n",
              "        vertical-align: middle;\n",
              "    }\n",
              "\n",
              "    .dataframe tbody tr th {\n",
              "        vertical-align: top;\n",
              "    }\n",
              "\n",
              "    .dataframe thead th {\n",
              "        text-align: right;\n",
              "    }\n",
              "</style>\n",
              "<table border=\"1\" class=\"dataframe\">\n",
              "  <thead>\n",
              "    <tr style=\"text-align: right;\">\n",
              "      <th></th>\n",
              "      <th>date</th>\n",
              "      <th>home_score</th>\n",
              "      <th>away_score</th>\n",
              "      <th>away_team_rank</th>\n",
              "      <th>home_team_rank</th>\n",
              "      <th>Friendly</th>\n",
              "      <th>Other</th>\n",
              "      <th>World Cup</th>\n",
              "    </tr>\n",
              "  </thead>\n",
              "  <tbody>\n",
              "    <tr>\n",
              "      <th>0</th>\n",
              "      <td>1872-11-30</td>\n",
              "      <td>0</td>\n",
              "      <td>0</td>\n",
              "      <td>11.0</td>\n",
              "      <td>30.0</td>\n",
              "      <td>1</td>\n",
              "      <td>0</td>\n",
              "      <td>0</td>\n",
              "    </tr>\n",
              "    <tr>\n",
              "      <th>1</th>\n",
              "      <td>1873-03-08</td>\n",
              "      <td>4</td>\n",
              "      <td>2</td>\n",
              "      <td>30.0</td>\n",
              "      <td>11.0</td>\n",
              "      <td>1</td>\n",
              "      <td>0</td>\n",
              "      <td>0</td>\n",
              "    </tr>\n",
              "  </tbody>\n",
              "</table>\n",
              "</div>"
            ],
            "text/plain": [
              "        date  home_score  away_score  ...  Friendly  Other  World Cup\n",
              "0 1872-11-30           0           0  ...         1      0          0\n",
              "1 1873-03-08           4           2  ...         1      0          0\n",
              "\n",
              "[2 rows x 8 columns]"
            ]
          },
          "metadata": {
            "tags": []
          },
          "execution_count": 59
        }
      ]
    },
    {
      "cell_type": "code",
      "metadata": {
        "colab": {
          "base_uri": "https://localhost:8080/",
          "height": 294
        },
        "id": "aUxf_X8zCqme",
        "outputId": "40027df9-ba6f-41a4-e04c-7c8ba92de63b"
      },
      "source": [
        "# Plotting the histogram\r\n",
        "plt.hist(combined_dataset['home_score'], bins= [0,2,4,6,8,10,12,14,16,18,20], rwidth = 3, color ='red')\r\n",
        "\r\n",
        "# Labelling our x axis\r\n",
        "plt.xlabel(\"Number of Home Goals Scored\")\r\n",
        "\r\n",
        "# Labelling our y axis\r\n",
        "plt.ylabel(\"Frequency\")\r\n",
        "\r\n",
        "# Giving a title to our Bar chart\r\n",
        "plt.title(\"Frequency of Home Goals Scored\")\r\n",
        "\r\n",
        "# Displaying our chart\r\n",
        "plt.show()"
      ],
      "execution_count": 60,
      "outputs": [
        {
          "output_type": "display_data",
          "data": {
            "image/png": "[encoded data removed]",
            "text/plain": [
              "<Figure size 432x288 with 1 Axes>"
            ]
          },
          "metadata": {
            "tags": [],
            "needs_background": "light"
          }
        }
      ]
    },
    {
      "cell_type": "code",
      "metadata": {
        "colab": {
          "base_uri": "https://localhost:8080/",
          "height": 294
        },
        "id": "IW5IlNMwDMqR",
        "outputId": "7326c151-2e69-47e3-f4f6-e8f1c3a236ad"
      },
      "source": [
        "# Plotting the histogram\r\n",
        "plt.hist(combined_dataset['away_score'], bins= [0,2,4,6,8,10,12,14,16,18,20], rwidth = 3, color = 'red')\r\n",
        "\r\n",
        "# Labelling our x axis\r\n",
        "plt.xlabel(\"Number of Away Goals Scored\")\r\n",
        "\r\n",
        "# Labelling our y axis\r\n",
        "plt.ylabel(\"Frequency\")\r\n",
        "\r\n",
        "# Giving a title to our Bar chart\r\n",
        "plt.title(\"Frequency of Away Goals Scored\")\r\n",
        "\r\n",
        "# Displaying our chart\r\n",
        "plt.show()"
      ],
      "execution_count": 61,
      "outputs": [
        {
          "output_type": "display_data",
          "data": {
            "image/png": "[encoded data removed]",
            "text/plain": [
              "<Figure size 432x288 with 1 Axes>"
            ]
          },
          "metadata": {
            "tags": [],
            "needs_background": "light"
          }
        }
      ]
    },
    {
      "cell_type": "code",
      "metadata": {
        "colab": {
          "base_uri": "https://localhost:8080/",
          "height": 294
        },
        "id": "2si7-RqGDfM9",
        "outputId": "0d46f67c-3774-45d5-c475-3b5dcf0b0c29"
      },
      "source": [
        "# Plotting the histogram\r\n",
        "plt.hist(combined_dataset['away_team_rank'], bins= 10, rwidth = 3, color ='green')\r\n",
        "\r\n",
        "# Labelling our x axis\r\n",
        "plt.xlabel(\"Away Team Rank\")\r\n",
        "\r\n",
        "# Labelling our y axis\r\n",
        "plt.ylabel(\"Frequency\")\r\n",
        "\r\n",
        "# Giving a title to our Bar chart\r\n",
        "plt.title(\"Frequency of Away Team Rank\")\r\n",
        "\r\n",
        "# Displaying our chart\r\n",
        "plt.show()"
      ],
      "execution_count": 62,
      "outputs": [
        {
          "output_type": "display_data",
          "data": {
            "image/png": "[encoded data removed]",
            "text/plain": [
              "<Figure size 432x288 with 1 Axes>"
            ]
          },
          "metadata": {
            "tags": [],
            "needs_background": "light"
          }
        }
      ]
    },
    {
      "cell_type": "code",
      "metadata": {
        "colab": {
          "base_uri": "https://localhost:8080/",
          "height": 294
        },
        "id": "PPlt2jvxDuHx",
        "outputId": "500e5d47-fce5-4a6e-d539-be6471f2b1fd"
      },
      "source": [
        "# Plotting the histogram\r\n",
        "plt.hist(combined_dataset['home_team_rank'], bins= 10, rwidth = 3, color ='purple')\r\n",
        "\r\n",
        "# Labelling our x axis\r\n",
        "plt.xlabel(\"Home Team Rank\")\r\n",
        "\r\n",
        "# Labelling our y axis\r\n",
        "plt.ylabel(\"Frequency\")\r\n",
        "\r\n",
        "# Giving a title to our Bar chart\r\n",
        "plt.title(\"Frequency of Home Team Rank\")\r\n",
        "\r\n",
        "# Displaying our chart\r\n",
        "plt.show()"
      ],
      "execution_count": 63,
      "outputs": [
        {
          "output_type": "display_data",
          "data": {
            "image/png": "[encoded data removed]",
            "text/plain": [
              "<Figure size 432x288 with 1 Axes>"
            ]
          },
          "metadata": {
            "tags": [],
            "needs_background": "light"
          }
        }
      ]
    },
    {
      "cell_type": "code",
      "metadata": {
        "colab": {
          "base_uri": "https://localhost:8080/",
          "height": 110
        },
        "id": "R9m10HlVH1Hw",
        "outputId": "e39b938f-6028-4109-9ea7-376d24430535"
      },
      "source": [
        "combined_dataset.head(2)"
      ],
      "execution_count": 64,
      "outputs": [
        {
          "output_type": "execute_result",
          "data": {
            "text/html": [
              "<div>\n",
              "<style scoped>\n",
              "    .dataframe tbody tr th:only-of-type {\n",
              "        vertical-align: middle;\n",
              "    }\n",
              "\n",
              "    .dataframe tbody tr th {\n",
              "        vertical-align: top;\n",
              "    }\n",
              "\n",
              "    .dataframe thead th {\n",
              "        text-align: right;\n",
              "    }\n",
              "</style>\n",
              "<table border=\"1\" class=\"dataframe\">\n",
              "  <thead>\n",
              "    <tr style=\"text-align: right;\">\n",
              "      <th></th>\n",
              "      <th>date</th>\n",
              "      <th>home_score</th>\n",
              "      <th>away_score</th>\n",
              "      <th>away_team_rank</th>\n",
              "      <th>home_team_rank</th>\n",
              "      <th>Friendly</th>\n",
              "      <th>Other</th>\n",
              "      <th>World Cup</th>\n",
              "    </tr>\n",
              "  </thead>\n",
              "  <tbody>\n",
              "    <tr>\n",
              "      <th>0</th>\n",
              "      <td>1872-11-30</td>\n",
              "      <td>0</td>\n",
              "      <td>0</td>\n",
              "      <td>11.0</td>\n",
              "      <td>30.0</td>\n",
              "      <td>1</td>\n",
              "      <td>0</td>\n",
              "      <td>0</td>\n",
              "    </tr>\n",
              "    <tr>\n",
              "      <th>1</th>\n",
              "      <td>1873-03-08</td>\n",
              "      <td>4</td>\n",
              "      <td>2</td>\n",
              "      <td>30.0</td>\n",
              "      <td>11.0</td>\n",
              "      <td>1</td>\n",
              "      <td>0</td>\n",
              "      <td>0</td>\n",
              "    </tr>\n",
              "  </tbody>\n",
              "</table>\n",
              "</div>"
            ],
            "text/plain": [
              "        date  home_score  away_score  ...  Friendly  Other  World Cup\n",
              "0 1872-11-30           0           0  ...         1      0          0\n",
              "1 1873-03-08           4           2  ...         1      0          0\n",
              "\n",
              "[2 rows x 8 columns]"
            ]
          },
          "metadata": {
            "tags": []
          },
          "execution_count": 64
        }
      ]
    },
    {
      "cell_type": "code",
      "metadata": {
        "colab": {
          "base_uri": "https://localhost:8080/",
          "height": 653
        },
        "id": "5cTmPBjGMPTy",
        "outputId": "82c86eee-32b2-4c15-bc0c-285e57648072"
      },
      "source": [
        "# Checking for Outliers\r\n",
        "fig, ((ax1, ax2), (ax3, ax4)) = plt.subplots(2,2, figsize=(10, 7))\r\n",
        "fig.suptitle('Combined Dataset Boxplots') # Gives the title of the boxplots\r\n",
        "sns.boxplot(combined_dataset['home_score'], ax=ax1)\r\n",
        "sns.boxplot(combined_dataset['away_score'], ax=ax2)\r\n",
        "sns.boxplot(combined_dataset['away_team_rank'], ax=ax3)\r\n",
        "sns.boxplot(combined_dataset['home_team_rank'], ax=ax4)\r\n",
        "plt.show()"
      ],
      "execution_count": 65,
      "outputs": [
        {
          "output_type": "stream",
          "text": [
            "/usr/local/lib/python3.6/dist-packages/seaborn/_decorators.py:43: FutureWarning: Pass the following variable as a keyword arg: x. From version 0.12, the only valid positional argument will be `data`, and passing other arguments without an explicit keyword will result in an error or misinterpretation.\n",
            "  FutureWarning\n",
            "/usr/local/lib/python3.6/dist-packages/seaborn/_decorators.py:43: FutureWarning: Pass the following variable as a keyword arg: x. From version 0.12, the only valid positional argument will be `data`, and passing other arguments without an explicit keyword will result in an error or misinterpretation.\n",
            "  FutureWarning\n",
            "/usr/local/lib/python3.6/dist-packages/seaborn/_decorators.py:43: FutureWarning: Pass the following variable as a keyword arg: x. From version 0.12, the only valid positional argument will be `data`, and passing other arguments without an explicit keyword will result in an error or misinterpretation.\n",
            "  FutureWarning\n",
            "/usr/local/lib/python3.6/dist-packages/seaborn/_decorators.py:43: FutureWarning: Pass the following variable as a keyword arg: x. From version 0.12, the only valid positional argument will be `data`, and passing other arguments without an explicit keyword will result in an error or misinterpretation.\n",
            "  FutureWarning\n"
          ],
          "name": "stderr"
        },
        {
          "output_type": "display_data",
          "data": {
            "image/png": "[encoded data removed]",
            "text/plain": [
              "<Figure size 720x504 with 4 Axes>"
            ]
          },
          "metadata": {
            "tags": [],
            "needs_background": "light"
          }
        }
      ]
    },
    {
      "cell_type": "code",
      "metadata": {
        "colab": {
          "base_uri": "https://localhost:8080/"
        },
        "id": "0OmzRtN9HUiE",
        "outputId": "2b96cb25-607a-4843-f46f-d67c0d74623c"
      },
      "source": [
        "# Measures of central tendency\r\n",
        "\r\n",
        "# Finding the mean\r\n",
        "(print('MEASURES OF CENTRAL TENDENCY:'))\r\n",
        "print('Home Team Score Mean:', round(combined_dataset[\"home_score\"].mean()))\r\n",
        "print('Away Team Score Mean:', round(combined_dataset[\"away_score\"].mean()))\r\n",
        "print('*'*70)\r\n",
        "print('Home Team Score Median:', round(combined_dataset[\"home_score\"].median()))\r\n",
        "print('Away Team Score Median:', round(combined_dataset[\"away_score\"].median()))\r\n",
        "print('*'*70)\r\n",
        "print('Home Team Score Mode:', round(combined_dataset[\"home_score\"].mode()))\r\n",
        "print('Away Team Score Mode:', round(combined_dataset[\"away_score\"].mode()))\r\n",
        "print('*'*70)\r\n",
        "(print('MEASURES OF DISPERSION:'))\r\n",
        "print('Home Team Score Standard Deviation:', round(combined_dataset[\"home_score\"].std()))\r\n",
        "print('Away Team Score Standard Deviation:', round(combined_dataset[\"away_score\"].std()))\r\n",
        "print('*'*70)\r\n",
        "print('Home Team Score Quantiles:', round(combined_dataset[\"home_score\"].quantile([0.25, 0.5, 0.75])))\r\n",
        "print('Away Team Score Quantiles:', round(combined_dataset[\"away_score\"].quantile([0.25, 0.5, 0.75])))"
      ],
      "execution_count": 66,
      "outputs": [
        {
          "output_type": "stream",
          "text": [
            "MEASURES OF CENTRAL TENDENCY:\n",
            "Home Team Score Mean: 2\n",
            "Away Team Score Mean: 1\n",
            "**********************************************************************\n",
            "Home Team Score Median: 1\n",
            "Away Team Score Median: 1\n",
            "**********************************************************************\n",
            "Home Team Score Mode: 0    1\n",
            "dtype: int64\n",
            "Away Team Score Mode: 0    0\n",
            "dtype: int64\n",
            "**********************************************************************\n",
            "MEASURES OF DISPERSION:\n",
            "Home Team Score Standard Deviation: 2\n",
            "Away Team Score Standard Deviation: 1\n",
            "**********************************************************************\n",
            "Home Team Score Quantiles: 0.25    1.0\n",
            "0.50    1.0\n",
            "0.75    3.0\n",
            "Name: home_score, dtype: float64\n",
            "Away Team Score Quantiles: 0.25    0.0\n",
            "0.50    1.0\n",
            "0.75    2.0\n",
            "Name: away_score, dtype: float64\n"
          ],
          "name": "stdout"
        }
      ]
    },
    {
      "cell_type": "markdown",
      "metadata": {
        "id": "fgizetxiKwf2"
      },
      "source": [
        "There are a few outlier high scoring matches. However, they are few in number and thus won't be removed from the dataset football matches can have such rare occurences as the article below shows. The outlier of 36 is therefore in order and won't be deleted:\r\n",
        "\r\n",
        "*(https://www.theguardian.com/football/2002/nov/01/newsstory.sport5#:~:text=The%20world%20record%20for%20goals,by%20a%20team%20from%20Madagascar.: The world record for goals scored in senior football, which has stood steadfast ever since Arbroath thumped Bon Accord 36-0 in 1885, has been smashed by a team from Madagascar. Farcical scenes quicky led to a basketball score as league champions AS Adema won a match 149-0, more than quadrupling the existing record - and without gaining possession between the first goal and the 149th. Their opponents, Stade Olymique L'Emyrne, took complete control of the national league game, reducing Adema to the role of onlookers, as they deliberately plonked the ball in the back of their own net 149 times, in protest over a refereeing decision)*\r\n",
        "\r\n",
        "\r\n",
        "\r\n",
        "Home teams are also normally expected to score more goals, and this is clearly seen in their score having a greater mean(twice that of away teams). The standard deviation of home team scores is also greater than that of away teams, signifying greater risk."
      ]
    },
    {
      "cell_type": "markdown",
      "metadata": {
        "id": "7HaDkOp0Ln0r"
      },
      "source": [
        "# 4. Perform Bivariate Analysis"
      ]
    },
    {
      "cell_type": "code",
      "metadata": {
        "colab": {
          "base_uri": "https://localhost:8080/",
          "height": 110
        },
        "id": "DHFvze_ROj7D",
        "outputId": "92472374-2ece-4ed1-e598-38c57201f2e2"
      },
      "source": [
        "combined_dataset.head(2) # preview the data"
      ],
      "execution_count": 67,
      "outputs": [
        {
          "output_type": "execute_result",
          "data": {
            "text/html": [
              "<div>\n",
              "<style scoped>\n",
              "    .dataframe tbody tr th:only-of-type {\n",
              "        vertical-align: middle;\n",
              "    }\n",
              "\n",
              "    .dataframe tbody tr th {\n",
              "        vertical-align: top;\n",
              "    }\n",
              "\n",
              "    .dataframe thead th {\n",
              "        text-align: right;\n",
              "    }\n",
              "</style>\n",
              "<table border=\"1\" class=\"dataframe\">\n",
              "  <thead>\n",
              "    <tr style=\"text-align: right;\">\n",
              "      <th></th>\n",
              "      <th>date</th>\n",
              "      <th>home_score</th>\n",
              "      <th>away_score</th>\n",
              "      <th>away_team_rank</th>\n",
              "      <th>home_team_rank</th>\n",
              "      <th>Friendly</th>\n",
              "      <th>Other</th>\n",
              "      <th>World Cup</th>\n",
              "    </tr>\n",
              "  </thead>\n",
              "  <tbody>\n",
              "    <tr>\n",
              "      <th>0</th>\n",
              "      <td>1872-11-30</td>\n",
              "      <td>0</td>\n",
              "      <td>0</td>\n",
              "      <td>11.0</td>\n",
              "      <td>30.0</td>\n",
              "      <td>1</td>\n",
              "      <td>0</td>\n",
              "      <td>0</td>\n",
              "    </tr>\n",
              "    <tr>\n",
              "      <th>1</th>\n",
              "      <td>1873-03-08</td>\n",
              "      <td>4</td>\n",
              "      <td>2</td>\n",
              "      <td>30.0</td>\n",
              "      <td>11.0</td>\n",
              "      <td>1</td>\n",
              "      <td>0</td>\n",
              "      <td>0</td>\n",
              "    </tr>\n",
              "  </tbody>\n",
              "</table>\n",
              "</div>"
            ],
            "text/plain": [
              "        date  home_score  away_score  ...  Friendly  Other  World Cup\n",
              "0 1872-11-30           0           0  ...         1      0          0\n",
              "1 1873-03-08           4           2  ...         1      0          0\n",
              "\n",
              "[2 rows x 8 columns]"
            ]
          },
          "metadata": {
            "tags": []
          },
          "execution_count": 67
        }
      ]
    },
    {
      "cell_type": "code",
      "metadata": {
        "colab": {
          "base_uri": "https://localhost:8080/",
          "height": 1000
        },
        "id": "0CsGjfQNLnQ4",
        "outputId": "951b985c-2764-4677-a348-7ed880c4fe27"
      },
      "source": [
        "# plot pairplots\r\n",
        "\r\n",
        "sns.pairplot(combined_dataset)\r\n",
        "\r\n",
        "plt.show()\r\n"
      ],
      "execution_count": 68,
      "outputs": [
        {
          "output_type": "display_data",
          "data": {
            "image/png": "[encoded data removed]",
            "text/plain": [
              "<Figure size 1260x1260 with 56 Axes>"
            ]
          },
          "metadata": {
            "tags": [],
            "needs_background": "light"
          }
        }
      ]
    },
    {
      "cell_type": "code",
      "metadata": {
        "colab": {
          "base_uri": "https://localhost:8080/",
          "height": 346
        },
        "id": "KoWP1PojOxM7",
        "outputId": "148fdfb1-3cab-4734-da1d-5bb66cc0f2dd"
      },
      "source": [
        "# plot a correlation matrix\r\n",
        "\r\n",
        "sns.heatmap(combined_dataset.corr(), annot=True)\r\n",
        "plt.show()"
      ],
      "execution_count": 70,
      "outputs": [
        {
          "output_type": "display_data",
          "data": {
            "image/png": "[encoded data removed]",
            "text/plain": [
              "<Figure size 432x288 with 2 Axes>"
            ]
          },
          "metadata": {
            "tags": [],
            "needs_background": "light"
          }
        }
      ]
    },
    {
      "cell_type": "markdown",
      "metadata": {
        "id": "vD6_ifKPQ-Ef"
      },
      "source": [
        "The dataset shows weak correlations between the variables."
      ]
    },
    {
      "cell_type": "markdown",
      "metadata": {
        "id": "Lbw3a1CZRmr4"
      },
      "source": [
        "# 5. Polynomial Regression"
      ]
    },
    {
      "cell_type": "markdown",
      "metadata": {
        "id": "8N5WxCra7e6R"
      },
      "source": [
        "## a) Model 1: Predict the home team scores given the home team rank"
      ]
    },
    {
      "cell_type": "code",
      "metadata": {
        "id": "85A4D8v97eJw"
      },
      "source": [
        "# import libraries\r\n",
        "\r\n",
        "from sklearn.preprocessing import PolynomialFeatures\r\n",
        "\r\n",
        "from sklearn.model_selection import train_test_split\r\n",
        "\r\n",
        "# Import LinearRegression method from sklearn linear_model library\r\n",
        "from sklearn.linear_model import LinearRegression"
      ],
      "execution_count": 175,
      "outputs": []
    },
    {
      "cell_type": "code",
      "metadata": {
        "colab": {
          "base_uri": "https://localhost:8080/",
          "height": 110
        },
        "id": "WFSh3g83-xZU",
        "outputId": "3120e9ba-851f-4630-8369-9d514244885e"
      },
      "source": [
        "# preview the dataset\r\n",
        "\r\n",
        "combined_dataset.head(2)"
      ],
      "execution_count": 176,
      "outputs": [
        {
          "output_type": "execute_result",
          "data": {
            "text/html": [
              "<div>\n",
              "<style scoped>\n",
              "    .dataframe tbody tr th:only-of-type {\n",
              "        vertical-align: middle;\n",
              "    }\n",
              "\n",
              "    .dataframe tbody tr th {\n",
              "        vertical-align: top;\n",
              "    }\n",
              "\n",
              "    .dataframe thead th {\n",
              "        text-align: right;\n",
              "    }\n",
              "</style>\n",
              "<table border=\"1\" class=\"dataframe\">\n",
              "  <thead>\n",
              "    <tr style=\"text-align: right;\">\n",
              "      <th></th>\n",
              "      <th>date</th>\n",
              "      <th>home_score</th>\n",
              "      <th>away_score</th>\n",
              "      <th>away_team_rank</th>\n",
              "      <th>home_team_rank</th>\n",
              "      <th>Friendly</th>\n",
              "      <th>Other</th>\n",
              "      <th>World Cup</th>\n",
              "    </tr>\n",
              "  </thead>\n",
              "  <tbody>\n",
              "    <tr>\n",
              "      <th>0</th>\n",
              "      <td>1872-11-30</td>\n",
              "      <td>0</td>\n",
              "      <td>0</td>\n",
              "      <td>11.0</td>\n",
              "      <td>30.0</td>\n",
              "      <td>1</td>\n",
              "      <td>0</td>\n",
              "      <td>0</td>\n",
              "    </tr>\n",
              "    <tr>\n",
              "      <th>1</th>\n",
              "      <td>1873-03-08</td>\n",
              "      <td>4</td>\n",
              "      <td>2</td>\n",
              "      <td>30.0</td>\n",
              "      <td>11.0</td>\n",
              "      <td>1</td>\n",
              "      <td>0</td>\n",
              "      <td>0</td>\n",
              "    </tr>\n",
              "  </tbody>\n",
              "</table>\n",
              "</div>"
            ],
            "text/plain": [
              "        date  home_score  away_score  ...  Friendly  Other  World Cup\n",
              "0 1872-11-30           0           0  ...         1      0          0\n",
              "1 1873-03-08           4           2  ...         1      0          0\n",
              "\n",
              "[2 rows x 8 columns]"
            ]
          },
          "metadata": {
            "tags": []
          },
          "execution_count": 176
        }
      ]
    },
    {
      "cell_type": "code",
      "metadata": {
        "colab": {
          "base_uri": "https://localhost:8080/",
          "height": 141
        },
        "id": "VUsuDND2EJfF",
        "outputId": "ee1c36e4-b482-4d61-e5d3-fd7bb2506408"
      },
      "source": [
        "# To perform polynomial regression, group the dataset and create a new dataframe with the mean of the columns as the\r\n",
        "# numerical data that is held in the columns. This is because there have been many rankings done over the years and predicting using each of these\r\n",
        "# individual rankings would be difficult. We thus summarize the data so as to enable regression.\r\n",
        "\r\n",
        "# NB: (At the end of the polynomial regression exercise I show the scatter plot of using each of the individual observations, showing why it would be difficult\r\n",
        "# to predict using these individual observations)\r\n",
        "\r\n",
        "poly_reg_dataset =  combined_dataset.groupby(['home_team_rank']).mean()\r\n",
        "\r\n",
        "poly_reg_dataset.head(2)"
      ],
      "execution_count": 177,
      "outputs": [
        {
          "output_type": "execute_result",
          "data": {
            "text/html": [
              "<div>\n",
              "<style scoped>\n",
              "    .dataframe tbody tr th:only-of-type {\n",
              "        vertical-align: middle;\n",
              "    }\n",
              "\n",
              "    .dataframe tbody tr th {\n",
              "        vertical-align: top;\n",
              "    }\n",
              "\n",
              "    .dataframe thead th {\n",
              "        text-align: right;\n",
              "    }\n",
              "</style>\n",
              "<table border=\"1\" class=\"dataframe\">\n",
              "  <thead>\n",
              "    <tr style=\"text-align: right;\">\n",
              "      <th></th>\n",
              "      <th>home_score</th>\n",
              "      <th>away_score</th>\n",
              "      <th>away_team_rank</th>\n",
              "      <th>Friendly</th>\n",
              "      <th>Other</th>\n",
              "      <th>World Cup</th>\n",
              "    </tr>\n",
              "    <tr>\n",
              "      <th>home_team_rank</th>\n",
              "      <th></th>\n",
              "      <th></th>\n",
              "      <th></th>\n",
              "      <th></th>\n",
              "      <th></th>\n",
              "      <th></th>\n",
              "    </tr>\n",
              "  </thead>\n",
              "  <tbody>\n",
              "    <tr>\n",
              "      <th>1.0</th>\n",
              "      <td>1.980519</td>\n",
              "      <td>1.069805</td>\n",
              "      <td>51.102273</td>\n",
              "      <td>0.444805</td>\n",
              "      <td>0.310065</td>\n",
              "      <td>0.245130</td>\n",
              "    </tr>\n",
              "    <tr>\n",
              "      <th>2.0</th>\n",
              "      <td>2.111465</td>\n",
              "      <td>0.974522</td>\n",
              "      <td>43.780255</td>\n",
              "      <td>0.496815</td>\n",
              "      <td>0.289809</td>\n",
              "      <td>0.213376</td>\n",
              "    </tr>\n",
              "  </tbody>\n",
              "</table>\n",
              "</div>"
            ],
            "text/plain": [
              "                home_score  away_score  ...     Other  World Cup\n",
              "home_team_rank                          ...                     \n",
              "1.0               1.980519    1.069805  ...  0.310065   0.245130\n",
              "2.0               2.111465    0.974522  ...  0.289809   0.213376\n",
              "\n",
              "[2 rows x 6 columns]"
            ]
          },
          "metadata": {
            "tags": []
          },
          "execution_count": 177
        }
      ]
    },
    {
      "cell_type": "code",
      "metadata": {
        "id": "jVoFcgPn8Dr_"
      },
      "source": [
        "# specify the independent and dependent variables\r\n",
        "\r\n",
        "X = poly_reg_dataset.index.values.reshape(-1, 1)\r\n",
        "\r\n",
        "y = poly_reg_dataset['home_score'].values.reshape(-1, 1)"
      ],
      "execution_count": 178,
      "outputs": []
    },
    {
      "cell_type": "code",
      "metadata": {
        "colab": {
          "base_uri": "https://localhost:8080/",
          "height": 294
        },
        "id": "AoejzaZo_BLH",
        "outputId": "26ed144c-310c-4023-def7-89996d61a21d"
      },
      "source": [
        "# Visualizing the dataset by plotting a scatter plot\r\n",
        "\r\n",
        "plt.scatter(X, y, color='blue') \r\n",
        "plt.title('Home Team Score Vs Home Team Rank-Polynomial Regression using Means')\r\n",
        "plt.xlabel('Home Team Rank')\r\n",
        "plt.ylabel('Home Team Score')\r\n",
        "plt.show()"
      ],
      "execution_count": 179,
      "outputs": [
        {
          "output_type": "display_data",
          "data": {
            "image/png": "[encoded data removed]",
            "text/plain": [
              "<Figure size 432x288 with 1 Axes>"
            ]
          },
          "metadata": {
            "tags": [],
            "needs_background": "light"
          }
        }
      ]
    },
    {
      "cell_type": "code",
      "metadata": {
        "colab": {
          "base_uri": "https://localhost:8080/",
          "height": 558
        },
        "id": "wsBR-ga1_2IT",
        "outputId": "84bc4d81-ae07-42d6-c528-3868b77b15da"
      },
      "source": [
        "# Split the dataset into train and test sets\r\n",
        "X_train, Y_train, X_test, Y_test = train_test_split(X,y, test_size = 0.2, random_state=0)\r\n",
        "\r\n",
        "\r\n",
        "# Fit Linear Regression model to the dataset(optional to compare the linear regression model to the polynomial regression model)\r\n",
        "reg_line = LinearRegression()\r\n",
        "reg_line.fit(X,y)\r\n",
        "\r\n",
        "# Visualize the Linear Regression results\r\n",
        "plt.scatter(X, y, color='blue') # You can put any color you like. This just helps us highlight the data points\r\n",
        "plt.plot(X, reg_line.predict(X), color='red')\r\n",
        "plt.title('Linear Regression Home Team Score Prediction')\r\n",
        "plt.xlabel('Home Team Rank')\r\n",
        "plt.ylabel('Home Team Score')\r\n",
        "plt.show()\r\n",
        "\r\n",
        "# Fit polynomial Regression to the dataset\r\n",
        "poly_reg = PolynomialFeatures(degree = 4) \r\n",
        "X_poly = poly_reg.fit_transform(X)\r\n",
        "\r\n",
        "\r\n",
        "pol_reg = LinearRegression()\r\n",
        "pol_reg.fit(X_poly, y)\r\n",
        "\r\n",
        "\r\n",
        "#Visualize the Polynomial Regression results\r\n",
        "plt.scatter(X, y, color='orange') # To help highlight the data points\r\n",
        "plt.plot(X, pol_reg.predict(X_poly), color='red')\r\n",
        "plt.title('Polynomial Regression Home Team Score Prediction')\r\n",
        "plt.ylabel('Home Team Score')\r\n",
        "plt.show()\r\n"
      ],
      "execution_count": 184,
      "outputs": [
        {
          "output_type": "display_data",
          "data": {
            "image/png": "[encoded data removed]",
            "text/plain": [
              "<Figure size 432x288 with 1 Axes>"
            ]
          },
          "metadata": {
            "tags": [],
            "needs_background": "light"
          }
        },
        {
          "output_type": "display_data",
          "data": {
            "image/png": "[encoded data removed]",
            "text/plain": [
              "<Figure size 432x288 with 1 Axes>"
            ]
          },
          "metadata": {
            "tags": [],
            "needs_background": "light"
          }
        }
      ]
    },
    {
      "cell_type": "markdown",
      "metadata": {
        "id": "kNKSy26kKsB5"
      },
      "source": [
        "I have used 4 degrees of freedom as anything higher doesnt seem to give a better model"
      ]
    },
    {
      "cell_type": "code",
      "metadata": {
        "colab": {
          "base_uri": "https://localhost:8080/"
        },
        "id": "vl_OQ012HICJ",
        "outputId": "b49183de-4054-4e8a-807f-de03707def9e"
      },
      "source": [
        "# Use the polynomial equation above to predict the score of the home team given that the home team is ranked position number 6\r\n",
        "# and number 50 respectively\r\n",
        "\r\n",
        "home_team_position = 6\r\n",
        "lin_pred = reg_line.predict([[home_team_position]])\r\n",
        "print('Linear prediction: %d' %lin_pred)\r\n",
        "\r\n",
        "# Predict using Polynomial Regression\r\n",
        "poly_pred = pol_reg.predict(poly_reg.fit_transform([[home_team_position]]))\r\n",
        "print('Polynomial prediction: %d' %poly_pred)\r\n",
        "\r\n",
        "print('*'*70)\r\n",
        "\r\n",
        "home_team_position = 50\r\n",
        "lin_pred = reg_line.predict([[home_team_position]])\r\n",
        "print('Linear prediction: %d' %lin_pred)\r\n",
        "\r\n",
        "# Predict using Polynomial Regression\r\n",
        "poly_pred = pol_reg.predict(poly_reg.fit_transform([[home_team_position]]))\r\n",
        "print('Polynomial prediction: %d' %poly_pred)\r\n"
      ],
      "execution_count": 187,
      "outputs": [
        {
          "output_type": "stream",
          "text": [
            "Linear prediction: 1\n",
            "Polynomial prediction: 2\n",
            "**********************************************************************\n",
            "Linear prediction: 1\n",
            "Polynomial prediction: 1\n"
          ],
          "name": "stdout"
        }
      ]
    },
    {
      "cell_type": "code",
      "metadata": {
        "colab": {
          "base_uri": "https://localhost:8080/",
          "height": 110
        },
        "id": "CLPC5UF9Ji1e",
        "outputId": "997d2144-b667-46e8-9c80-15e3d8bc246b"
      },
      "source": [
        "combined_dataset.head(2)"
      ],
      "execution_count": 168,
      "outputs": [
        {
          "output_type": "execute_result",
          "data": {
            "text/html": [
              "<div>\n",
              "<style scoped>\n",
              "    .dataframe tbody tr th:only-of-type {\n",
              "        vertical-align: middle;\n",
              "    }\n",
              "\n",
              "    .dataframe tbody tr th {\n",
              "        vertical-align: top;\n",
              "    }\n",
              "\n",
              "    .dataframe thead th {\n",
              "        text-align: right;\n",
              "    }\n",
              "</style>\n",
              "<table border=\"1\" class=\"dataframe\">\n",
              "  <thead>\n",
              "    <tr style=\"text-align: right;\">\n",
              "      <th></th>\n",
              "      <th>date</th>\n",
              "      <th>home_score</th>\n",
              "      <th>away_score</th>\n",
              "      <th>away_team_rank</th>\n",
              "      <th>home_team_rank</th>\n",
              "      <th>Friendly</th>\n",
              "      <th>Other</th>\n",
              "      <th>World Cup</th>\n",
              "    </tr>\n",
              "  </thead>\n",
              "  <tbody>\n",
              "    <tr>\n",
              "      <th>0</th>\n",
              "      <td>1872-11-30</td>\n",
              "      <td>0</td>\n",
              "      <td>0</td>\n",
              "      <td>11.0</td>\n",
              "      <td>30.0</td>\n",
              "      <td>1</td>\n",
              "      <td>0</td>\n",
              "      <td>0</td>\n",
              "    </tr>\n",
              "    <tr>\n",
              "      <th>1</th>\n",
              "      <td>1873-03-08</td>\n",
              "      <td>4</td>\n",
              "      <td>2</td>\n",
              "      <td>30.0</td>\n",
              "      <td>11.0</td>\n",
              "      <td>1</td>\n",
              "      <td>0</td>\n",
              "      <td>0</td>\n",
              "    </tr>\n",
              "  </tbody>\n",
              "</table>\n",
              "</div>"
            ],
            "text/plain": [
              "        date  home_score  away_score  ...  Friendly  Other  World Cup\n",
              "0 1872-11-30           0           0  ...         1      0          0\n",
              "1 1873-03-08           4           2  ...         1      0          0\n",
              "\n",
              "[2 rows x 8 columns]"
            ]
          },
          "metadata": {
            "tags": []
          },
          "execution_count": 168
        }
      ]
    },
    {
      "cell_type": "code",
      "metadata": {
        "colab": {
          "base_uri": "https://localhost:8080/",
          "height": 937
        },
        "id": "5iFdC_cyI0qF",
        "outputId": "1e7f2456-7acc-46dd-ba09-065a3e2eeaea"
      },
      "source": [
        "# This section provides a scatter plot using the individual observations and shows why it would be difficult to predict using these\r\n",
        "# indivisual observations\r\n",
        "\r\n",
        "print(combined_dataset.head(2))\r\n",
        "\r\n",
        "X = combined_dataset.home_team_rank.values.reshape(-1, 1)\r\n",
        "\r\n",
        "y = combined_dataset['home_score'].values.reshape(-1, 1)\r\n",
        "\r\n",
        "# Visualizing the dataset by plotting a scatter plot\r\n",
        "\r\n",
        "plt.scatter(X, y, color='blue') \r\n",
        "plt.title('Home Team Score Vs Home Team Rank-Polynomial Regression using Individual Observations')\r\n",
        "plt.xlabel('Home Team Rank')\r\n",
        "plt.ylabel('Home Team Score')\r\n",
        "plt.show()\r\n",
        "\r\n",
        "# Split the dataset into train and test sets\r\n",
        "X_train, Y_train, X_test, Y_test = train_test_split(X,y, test_size = 0.2, random_state=0)\r\n",
        "\r\n",
        "\r\n",
        "# Fit Linear Regression model to the dataset(optional to compare the linear regression model to the polynomial regression model)\r\n",
        "reg_line = LinearRegression()\r\n",
        "reg_line.fit(X,y)\r\n",
        "\r\n",
        "# Visualize the Linear Regression results\r\n",
        "plt.scatter(X, y, color='blue') # You can put any color you like. This just helps us highlight the data points\r\n",
        "plt.plot(X, reg_line.predict(X), color='red')\r\n",
        "plt.title('Linear Regression Home Team Score Prediction')\r\n",
        "plt.xlabel('Home Team Rank')\r\n",
        "plt.ylabel('Home Team Score')\r\n",
        "plt.show()\r\n",
        "\r\n",
        "# Fit polynomial Regression to the dataset\r\n",
        "poly_reg = PolynomialFeatures(degree = 4) \r\n",
        "X_poly = poly_reg.fit_transform(X)\r\n",
        "\r\n",
        "\r\n",
        "pol_reg = LinearRegression()\r\n",
        "pol_reg.fit(X_poly, y)\r\n",
        "\r\n",
        "#Visualize the Polynomial Regression results\r\n",
        "plt.scatter(X, y, color='orange') # To help highlight the data points\r\n",
        "plt.plot(X, pol_reg.predict(X_poly), color='red')\r\n",
        "plt.title('Polynomial Regression Home Team Score Prediction')\r\n",
        "plt.xlabel('Home Team Rank')\r\n",
        "plt.ylabel('Home Team Score')\r\n",
        "plt.show()"
      ],
      "execution_count": 188,
      "outputs": [
        {
          "output_type": "stream",
          "text": [
            "        date  home_score  away_score  ...  Friendly  Other  World Cup\n",
            "0 1872-11-30           0           0  ...         1      0          0\n",
            "1 1873-03-08           4           2  ...         1      0          0\n",
            "\n",
            "[2 rows x 8 columns]\n"
          ],
          "name": "stdout"
        },
        {
          "output_type": "display_data",
          "data": {
            "image/png": "[encoded data removed]",
            "text/plain": [
              "<Figure size 432x288 with 1 Axes>"
            ]
          },
          "metadata": {
            "tags": [],
            "needs_background": "light"
          }
        },
        {
          "output_type": "display_data",
          "data": {
            "image/png": "[encoded data removed]",
            "text/plain": [
              "<Figure size 432x288 with 1 Axes>"
            ]
          },
          "metadata": {
            "tags": [],
            "needs_background": "light"
          }
        },
        {
          "output_type": "display_data",
          "data": {
            "image/png": "[encoded data removed]",
            "text/plain": [
              "<Figure size 432x288 with 1 Axes>"
            ]
          },
          "metadata": {
            "tags": [],
            "needs_background": "light"
          }
        }
      ]
    },
    {
      "cell_type": "markdown",
      "metadata": {
        "id": "aG2rysKfKTmn"
      },
      "source": [
        "As can be seen from the graphs above, predicting using the individual observations does not give a very good model. As such, I resolved to using the means so as to go around this problem"
      ]
    },
    {
      "cell_type": "markdown",
      "metadata": {
        "id": "FeDjVy_84LXm"
      },
      "source": [
        "## b) Model 2: Predict the away team scores given the away team rank"
      ]
    },
    {
      "cell_type": "code",
      "metadata": {
        "colab": {
          "base_uri": "https://localhost:8080/",
          "height": 294
        },
        "id": "E8EmivKS4O8i",
        "outputId": "1af4ae1c-efcb-4c98-a9c1-f27bb3e760ee"
      },
      "source": [
        "# specify the independent and dependent variables\r\n",
        "\r\n",
        "X = poly_reg_dataset.away_team_rank.values.reshape(-1, 1)\r\n",
        "\r\n",
        "y = poly_reg_dataset['away_score'].values.reshape(-1, 1)\r\n",
        "\r\n",
        "# Visualizing the dataset by plotting a scatter plot\r\n",
        "\r\n",
        "plt.scatter(X, y, color='blue') \r\n",
        "plt.title('Away Team Score Vs Away Team Rank-Polynomial Regression using Means')\r\n",
        "plt.xlabel('Away Team Rank')\r\n",
        "plt.ylabel('Away Team Score')\r\n",
        "plt.show()"
      ],
      "execution_count": 193,
      "outputs": [
        {
          "output_type": "display_data",
          "data": {
            "image/png": "[encoded data removed]",
            "text/plain": [
              "<Figure size 432x288 with 1 Axes>"
            ]
          },
          "metadata": {
            "tags": [],
            "needs_background": "light"
          }
        }
      ]
    },
    {
      "cell_type": "code",
      "metadata": {
        "colab": {
          "base_uri": "https://localhost:8080/",
          "height": 558
        },
        "id": "CvMlUOE6TO3Y",
        "outputId": "ac4f2f20-06fc-4793-c5a2-791e4562dc2b"
      },
      "source": [
        "# Split the dataset into train and test sets\r\n",
        "X_train, Y_train, X_test, Y_test = train_test_split(X,y, test_size = 0.2, random_state=0)\r\n",
        "\r\n",
        "\r\n",
        "# Fit Linear Regression model to the dataset(optional to compare the linear regression model to the polynomial regression model)\r\n",
        "reg_line = LinearRegression()\r\n",
        "reg_line.fit(X,y)\r\n",
        "\r\n",
        "# Visualize the Linear Regression results\r\n",
        "plt.scatter(X, y, color='blue') # You can put any color you like. This just helps us highlight the data points\r\n",
        "plt.plot(X, reg_line.predict(X), color='red')\r\n",
        "plt.title('Linear Regression Away Team Score Prediction')\r\n",
        "plt.xlabel('Away Team Rank')\r\n",
        "plt.ylabel('Away Team Score')\r\n",
        "plt.show()\r\n",
        "\r\n",
        "# Fit polynomial Regression to the dataset\r\n",
        "poly_reg = PolynomialFeatures(degree = 3) \r\n",
        "X_poly = poly_reg.fit_transform(X)\r\n",
        "\r\n",
        "\r\n",
        "pol_reg = LinearRegression()\r\n",
        "pol_reg.fit(X_poly, y)\r\n",
        "\r\n",
        "\r\n",
        "#Visualize the Polynomial Regression results\r\n",
        "plt.scatter(X, y, color='orange') # To help highlight the data points\r\n",
        "plt.plot(X, pol_reg.predict(X_poly), color='red')\r\n",
        "plt.title('Away Regression Home Team Score Prediction')\r\n",
        "plt.ylabel('Away Team Score')\r\n",
        "plt.show()"
      ],
      "execution_count": 201,
      "outputs": [
        {
          "output_type": "display_data",
          "data": {
            "image/png": "[encoded data removed]",
            "text/plain": [
              "<Figure size 432x288 with 1 Axes>"
            ]
          },
          "metadata": {
            "tags": [],
            "needs_background": "light"
          }
        },
        {
          "output_type": "display_data",
          "data": {
            "image/png": "[encoded data removed]",
            "text/plain": [
              "<Figure size 432x288 with 1 Axes>"
            ]
          },
          "metadata": {
            "tags": [],
            "needs_background": "light"
          }
        }
      ]
    },
    {
      "cell_type": "code",
      "metadata": {
        "colab": {
          "base_uri": "https://localhost:8080/"
        },
        "id": "vBj848bbU0b4",
        "outputId": "367f6801-0be9-4249-c71b-af69bc4e72f3"
      },
      "source": [
        "# Use the polynomial equation above to predict the score of the home team given that the home team is ranked position number 6\r\n",
        "# and number 50 respectively\r\n",
        "\r\n",
        "away_team_position = 6\r\n",
        "lin_pred = reg_line.predict([[away_team_position]])\r\n",
        "print('Linear prediction: %d' %lin_pred)\r\n",
        "\r\n",
        "# Predict using Polynomial Regression\r\n",
        "poly_pred = pol_reg.predict(poly_reg.fit_transform([[away_team_position]]))\r\n",
        "print('Polynomial prediction: %d' %poly_pred)\r\n",
        "\r\n",
        "print('*'*70)\r\n",
        "\r\n",
        "away_team_position = 50\r\n",
        "lin_pred = reg_line.predict([[away_team_position]])\r\n",
        "print('Linear prediction: %d' %lin_pred)\r\n",
        "\r\n",
        "# Predict using Polynomial Regression\r\n",
        "poly_pred = pol_reg.predict(poly_reg.fit_transform([[away_team_position]]))\r\n",
        "print('Polynomial prediction: %d' %poly_pred)"
      ],
      "execution_count": 204,
      "outputs": [
        {
          "output_type": "stream",
          "text": [
            "Linear prediction: 0\n",
            "Polynomial prediction: 2\n",
            "**********************************************************************\n",
            "Linear prediction: 1\n",
            "Polynomial prediction: 1\n"
          ],
          "name": "stdout"
        }
      ]
    },
    {
      "cell_type": "code",
      "metadata": {
        "id": "x50YQp5jazdV"
      },
      "source": [
        "# Splitting our dataset\r\n",
        "#\r\n",
        "X = titanic_dmy.drop(\"Survived\",axis=1)\r\n",
        "y = titanic_dmy[\"Survived\"]\r\n",
        "\r\n",
        "from sklearn.model_selection import train_test_split\r\n",
        "X_train, X_test, y_train, y_test = train_test_split(X, y, test_size = .3, random_state=25)"
      ],
      "execution_count": null,
      "outputs": []
    }
  ]
}